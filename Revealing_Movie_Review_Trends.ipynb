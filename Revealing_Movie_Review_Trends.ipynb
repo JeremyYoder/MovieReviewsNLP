{
  "nbformat": 4,
  "nbformat_minor": 0,
  "metadata": {
    "colab": {
      "name": "Revealing Movie Review Trends",
      "provenance": [],
      "collapsed_sections": []
    },
    "kernelspec": {
      "display_name": "Python 3",
      "name": "python3"
    },
    "language_info": {
      "name": "python"
    }
  },
  "cells": [
    {
      "cell_type": "code",
      "metadata": {
        "colab": {
          "base_uri": "https://localhost:8080/"
        },
        "id": "uVuaeN3PFi39",
        "outputId": "cf98e5dd-adc1-4439-b55a-3e7d8a5f14cf"
      },
      "source": [
        "  #!pip install nltk scipy numpy matplotlib scikit-learn gensim\n",
        "import pandas as pd\n",
        "import numpy as np\n",
        "import nltk\n",
        "nltk.download('punkt')\n",
        "nltk.download('stopwords')\n",
        "nltk.download('wordnet')\n",
        "nltk.download('averaged_perceptron_tagger')\n",
        "from nltk.tokenize import word_tokenize"
      ],
      "execution_count": null,
      "outputs": [
        {
          "output_type": "stream",
          "name": "stdout",
          "text": [
            "[nltk_data] Downloading package punkt to /root/nltk_data...\n",
            "[nltk_data]   Unzipping tokenizers/punkt.zip.\n",
            "[nltk_data] Downloading package stopwords to /root/nltk_data...\n",
            "[nltk_data]   Unzipping corpora/stopwords.zip.\n",
            "[nltk_data] Downloading package wordnet to /root/nltk_data...\n",
            "[nltk_data]   Unzipping corpora/wordnet.zip.\n",
            "[nltk_data] Downloading package averaged_perceptron_tagger to\n",
            "[nltk_data]     /root/nltk_data...\n",
            "[nltk_data]   Unzipping taggers/averaged_perceptron_tagger.zip.\n"
          ]
        }
      ]
    },
    {
      "cell_type": "code",
      "metadata": {
        "colab": {
          "base_uri": "https://localhost:8080/"
        },
        "id": "IeUDCZRBFBjv",
        "outputId": "99f4f641-db46-4018-b41f-aa14600229fa"
      },
      "source": [
        "from google.colab import drive\n",
        "drive.mount('/content/drive')"
      ],
      "execution_count": null,
      "outputs": [
        {
          "output_type": "stream",
          "name": "stdout",
          "text": [
            "Mounted at /content/drive\n"
          ]
        }
      ]
    },
    {
      "cell_type": "code",
      "metadata": {
        "colab": {
          "base_uri": "https://localhost:8080/",
          "height": 289
        },
        "id": "D--KdUyLD4O1",
        "outputId": "26e725c5-ba9b-4280-8b86-c2f7448381f8"
      },
      "source": [
        "path = 'pathtodirectory/rotten_tomatoes_critic_reviews_from_kaggle.csv'\n",
        "review_df = pd.read_csv(path)\n",
        "review_df.sample(5)"
      ],
      "execution_count": null,
      "outputs": [
        {
          "output_type": "execute_result",
          "data": {
            "text/html": [
              "<div>\n",
              "<style scoped>\n",
              "    .dataframe tbody tr th:only-of-type {\n",
              "        vertical-align: middle;\n",
              "    }\n",
              "\n",
              "    .dataframe tbody tr th {\n",
              "        vertical-align: top;\n",
              "    }\n",
              "\n",
              "    .dataframe thead th {\n",
              "        text-align: right;\n",
              "    }\n",
              "</style>\n",
              "<table border=\"1\" class=\"dataframe\">\n",
              "  <thead>\n",
              "    <tr style=\"text-align: right;\">\n",
              "      <th></th>\n",
              "      <th>rotten_tomatoes_link</th>\n",
              "      <th>critic_name</th>\n",
              "      <th>top_critic</th>\n",
              "      <th>publisher_name</th>\n",
              "      <th>review_type</th>\n",
              "      <th>review_score</th>\n",
              "      <th>review_date</th>\n",
              "      <th>review_content</th>\n",
              "    </tr>\n",
              "  </thead>\n",
              "  <tbody>\n",
              "    <tr>\n",
              "      <th>1012755</th>\n",
              "      <td>m/the_seagull_2018</td>\n",
              "      <td>Hoai-Tran Bui</td>\n",
              "      <td>False</td>\n",
              "      <td>Slashfilm</td>\n",
              "      <td>Rotten</td>\n",
              "      <td>10-Jun</td>\n",
              "      <td>5/2/2018</td>\n",
              "      <td>\"There are spells cast by this lake,\" Dr. Dorn...</td>\n",
              "    </tr>\n",
              "    <tr>\n",
              "      <th>164524</th>\n",
              "      <td>m/batman_vs_teenage_mutant_ninja_turtles</td>\n",
              "      <td>Felix Vasquez Jr.</td>\n",
              "      <td>False</td>\n",
              "      <td>Cinema Crazed</td>\n",
              "      <td>Fresh</td>\n",
              "      <td>NaN</td>\n",
              "      <td>5/17/2019</td>\n",
              "      <td>A top notch crossover between two powerhouse s...</td>\n",
              "    </tr>\n",
              "    <tr>\n",
              "      <th>806696</th>\n",
              "      <td>m/sicko</td>\n",
              "      <td>Cole Smithey</td>\n",
              "      <td>False</td>\n",
              "      <td>ColeSmithey.com</td>\n",
              "      <td>Fresh</td>\n",
              "      <td>B+</td>\n",
              "      <td>6/22/2007</td>\n",
              "      <td>Michael Moore is an incurable optimist who bel...</td>\n",
              "    </tr>\n",
              "    <tr>\n",
              "      <th>432182</th>\n",
              "      <td>m/human_flow</td>\n",
              "      <td>David 'Mad Dog' Bradley</td>\n",
              "      <td>False</td>\n",
              "      <td>Adelaide Review</td>\n",
              "      <td>Fresh</td>\n",
              "      <td>10-Aug</td>\n",
              "      <td>3/15/2018</td>\n",
              "      <td>Ai Weiwei's epic study of the ever-worsening r...</td>\n",
              "    </tr>\n",
              "    <tr>\n",
              "      <th>649043</th>\n",
              "      <td>m/perfect_sense</td>\n",
              "      <td>Jason Best</td>\n",
              "      <td>False</td>\n",
              "      <td>Movie Talk</td>\n",
              "      <td>Rotten</td>\n",
              "      <td>NaN</td>\n",
              "      <td>1/25/2012</td>\n",
              "      <td>The film's limited budget means that the end o...</td>\n",
              "    </tr>\n",
              "  </tbody>\n",
              "</table>\n",
              "</div>"
            ],
            "text/plain": [
              "                             rotten_tomatoes_link  ...                                     review_content\n",
              "1012755                        m/the_seagull_2018  ...  \"There are spells cast by this lake,\" Dr. Dorn...\n",
              "164524   m/batman_vs_teenage_mutant_ninja_turtles  ...  A top notch crossover between two powerhouse s...\n",
              "806696                                    m/sicko  ...  Michael Moore is an incurable optimist who bel...\n",
              "432182                               m/human_flow  ...  Ai Weiwei's epic study of the ever-worsening r...\n",
              "649043                            m/perfect_sense  ...  The film's limited budget means that the end o...\n",
              "\n",
              "[5 rows x 8 columns]"
            ]
          },
          "metadata": {},
          "execution_count": 3
        }
      ]
    },
    {
      "cell_type": "code",
      "metadata": {
        "colab": {
          "base_uri": "https://localhost:8080/"
        },
        "id": "zKq0W7BiHPQv",
        "outputId": "d4101b5e-a5dc-4d10-c229-35f8d86ee099"
      },
      "source": [
        "#review_score is essentially unusable, sometimes it's a fraction, sometimes a grade (A, B+, C, etc.), and sometimes a date\n",
        "review_df['review_score'].describe() "
      ],
      "execution_count": null,
      "outputs": [
        {
          "output_type": "execute_result",
          "data": {
            "text/plain": [
              "count     764646\n",
              "unique       784\n",
              "top        5-Mar\n",
              "freq       84083\n",
              "Name: review_score, dtype: object"
            ]
          },
          "metadata": {},
          "execution_count": 4
        }
      ]
    },
    {
      "cell_type": "code",
      "metadata": {
        "colab": {
          "base_uri": "https://localhost:8080/"
        },
        "id": "Suci-ss_uN4P",
        "outputId": "add0c4a0-974e-4b0c-efeb-2713778a4a13"
      },
      "source": [
        "## let's just use review_type so we have a good and bad class (Fresh v. Rotten)\n",
        "review_df['review_type'].describe()"
      ],
      "execution_count": null,
      "outputs": [
        {
          "output_type": "execute_result",
          "data": {
            "text/plain": [
              "count     1048575\n",
              "unique          2\n",
              "top         Fresh\n",
              "freq       668679\n",
              "Name: review_type, dtype: object"
            ]
          },
          "metadata": {},
          "execution_count": 5
        }
      ]
    },
    {
      "cell_type": "code",
      "metadata": {
        "colab": {
          "base_uri": "https://localhost:8080/",
          "height": 173
        },
        "id": "rDAxgYnuv3cZ",
        "outputId": "9b5123bb-2981-4939-c55a-bb8d666a99c2"
      },
      "source": [
        "# We'll throw out any columns that are of no use to our analysis (who wrote the review, the review_score, the movie name, etc.)\n",
        "review_df_clean = review_df[['review_type','review_date', 'review_content']]\n",
        "review_df_clean.describe()"
      ],
      "execution_count": null,
      "outputs": [
        {
          "output_type": "execute_result",
          "data": {
            "text/html": [
              "<div>\n",
              "<style scoped>\n",
              "    .dataframe tbody tr th:only-of-type {\n",
              "        vertical-align: middle;\n",
              "    }\n",
              "\n",
              "    .dataframe tbody tr th {\n",
              "        vertical-align: top;\n",
              "    }\n",
              "\n",
              "    .dataframe thead th {\n",
              "        text-align: right;\n",
              "    }\n",
              "</style>\n",
              "<table border=\"1\" class=\"dataframe\">\n",
              "  <thead>\n",
              "    <tr style=\"text-align: right;\">\n",
              "      <th></th>\n",
              "      <th>rotten_tomatoes_link</th>\n",
              "      <th>review_type</th>\n",
              "      <th>top_critic</th>\n",
              "      <th>review_date</th>\n",
              "      <th>review_content</th>\n",
              "    </tr>\n",
              "  </thead>\n",
              "  <tbody>\n",
              "    <tr>\n",
              "      <th>count</th>\n",
              "      <td>1048575</td>\n",
              "      <td>1048575</td>\n",
              "      <td>1048575</td>\n",
              "      <td>1048575</td>\n",
              "      <td>987138</td>\n",
              "    </tr>\n",
              "    <tr>\n",
              "      <th>unique</th>\n",
              "      <td>16392</td>\n",
              "      <td>2</td>\n",
              "      <td>2</td>\n",
              "      <td>7984</td>\n",
              "      <td>872398</td>\n",
              "    </tr>\n",
              "    <tr>\n",
              "      <th>top</th>\n",
              "      <td>m/star_wars_the_rise_of_skywalker</td>\n",
              "      <td>Fresh</td>\n",
              "      <td>False</td>\n",
              "      <td>1/1/2000</td>\n",
              "      <td>Parental Content Review</td>\n",
              "    </tr>\n",
              "    <tr>\n",
              "      <th>freq</th>\n",
              "      <td>992</td>\n",
              "      <td>668679</td>\n",
              "      <td>780821</td>\n",
              "      <td>44504</td>\n",
              "      <td>244</td>\n",
              "    </tr>\n",
              "  </tbody>\n",
              "</table>\n",
              "</div>"
            ],
            "text/plain": [
              "                     rotten_tomatoes_link  ...           review_content\n",
              "count                             1048575  ...                   987138\n",
              "unique                              16392  ...                   872398\n",
              "top     m/star_wars_the_rise_of_skywalker  ...  Parental Content Review\n",
              "freq                                  992  ...                      244\n",
              "\n",
              "[4 rows x 5 columns]"
            ]
          },
          "metadata": {},
          "execution_count": 6
        }
      ]
    },
    {
      "cell_type": "code",
      "metadata": {
        "colab": {
          "base_uri": "https://localhost:8080/"
        },
        "id": "4smIcPhK0YMD",
        "outputId": "058f3f8b-4973-4ce5-93dc-84aab0bff928"
      },
      "source": [
        "# change  review_content to string type so we can tokenize it\n",
        "review_df_clean['review_content'] = review_df_clean['review_content'].astype(\"str\")\n"
      ],
      "execution_count": null,
      "outputs": [
        {
          "output_type": "stream",
          "name": "stderr",
          "text": [
            "/usr/local/lib/python3.7/dist-packages/ipykernel_launcher.py:2: SettingWithCopyWarning: \n",
            "A value is trying to be set on a copy of a slice from a DataFrame.\n",
            "Try using .loc[row_indexer,col_indexer] = value instead\n",
            "\n",
            "See the caveats in the documentation: https://pandas.pydata.org/pandas-docs/stable/user_guide/indexing.html#returning-a-view-versus-a-copy\n",
            "  \n"
          ]
        }
      ]
    },
    {
      "cell_type": "code",
      "metadata": {
        "id": "V9I9ktSmQOfO"
      },
      "source": [
        "review_df_clean['review_date'] = pd.to_datetime(review_df_clean['review_date'])\n",
        "review_df_clean = review_df_clean.sort_values(by='review_date') # sort by date\n"
      ],
      "execution_count": null,
      "outputs": []
    },
    {
      "cell_type": "code",
      "metadata": {
        "colab": {
          "base_uri": "https://localhost:8080/",
          "height": 289
        },
        "id": "9sqprQ2Exo5V",
        "outputId": "85a22cd3-cdd1-411b-e592-d5d19a80a080"
      },
      "source": [
        "# Tokenizing review_content, creating a new column for the tokenized version of each review\n",
        "review_df_clean['tok'] = review_df_clean['review_content'].apply(word_tokenize)\n",
        "review_df_clean.sample(5)\n",
        "\n"
      ],
      "execution_count": null,
      "outputs": [
        {
          "output_type": "execute_result",
          "data": {
            "text/html": [
              "<div>\n",
              "<style scoped>\n",
              "    .dataframe tbody tr th:only-of-type {\n",
              "        vertical-align: middle;\n",
              "    }\n",
              "\n",
              "    .dataframe tbody tr th {\n",
              "        vertical-align: top;\n",
              "    }\n",
              "\n",
              "    .dataframe thead th {\n",
              "        text-align: right;\n",
              "    }\n",
              "</style>\n",
              "<table border=\"1\" class=\"dataframe\">\n",
              "  <thead>\n",
              "    <tr style=\"text-align: right;\">\n",
              "      <th></th>\n",
              "      <th>rotten_tomatoes_link</th>\n",
              "      <th>review_type</th>\n",
              "      <th>top_critic</th>\n",
              "      <th>review_date</th>\n",
              "      <th>review_content</th>\n",
              "      <th>date</th>\n",
              "      <th>tok</th>\n",
              "      <th>review_length</th>\n",
              "    </tr>\n",
              "  </thead>\n",
              "  <tbody>\n",
              "    <tr>\n",
              "      <th>305855</th>\n",
              "      <td>m/dreams_1990</td>\n",
              "      <td>Fresh</td>\n",
              "      <td>True</td>\n",
              "      <td>2003-05-20</td>\n",
              "      <td>It's something altogether new for Kurosawa, a ...</td>\n",
              "      <td>2003-05-20</td>\n",
              "      <td>[It, 's, something, altogether, new, for, Kuro...</td>\n",
              "      <td>567443</td>\n",
              "    </tr>\n",
              "    <tr>\n",
              "      <th>579222</th>\n",
              "      <td>m/missing_link_2019</td>\n",
              "      <td>Rotten</td>\n",
              "      <td>True</td>\n",
              "      <td>2019-04-11</td>\n",
              "      <td>Ultimately, \"Missing Link\" feels like a \"Walla...</td>\n",
              "      <td>2019-04-11</td>\n",
              "      <td>[Ultimately, ,, ``, Missing, Link, '', feels, ...</td>\n",
              "      <td>567443</td>\n",
              "    </tr>\n",
              "    <tr>\n",
              "      <th>800240</th>\n",
              "      <td>m/shoes_of_the_fisherman</td>\n",
              "      <td>Rotten</td>\n",
              "      <td>False</td>\n",
              "      <td>2006-04-02</td>\n",
              "      <td>...it gets so bogged down in subplots and minu...</td>\n",
              "      <td>2006-04-02</td>\n",
              "      <td>[..., it, gets, so, bogged, down, in, subplots...</td>\n",
              "      <td>567443</td>\n",
              "    </tr>\n",
              "    <tr>\n",
              "      <th>640256</th>\n",
              "      <td>m/paper_towns</td>\n",
              "      <td>Fresh</td>\n",
              "      <td>False</td>\n",
              "      <td>2015-07-16</td>\n",
              "      <td>The film rightly treads a neat middle ground b...</td>\n",
              "      <td>2015-07-16</td>\n",
              "      <td>[The, film, rightly, treads, a, neat, middle, ...</td>\n",
              "      <td>567443</td>\n",
              "    </tr>\n",
              "    <tr>\n",
              "      <th>741505</th>\n",
              "      <td>m/room_2015</td>\n",
              "      <td>Rotten</td>\n",
              "      <td>False</td>\n",
              "      <td>2016-04-17</td>\n",
              "      <td>\"Room\" is lowest common denominator goop, so i...</td>\n",
              "      <td>2016-04-17</td>\n",
              "      <td>[``, Room, '', is, lowest, common, denominator...</td>\n",
              "      <td>567443</td>\n",
              "    </tr>\n",
              "  </tbody>\n",
              "</table>\n",
              "</div>"
            ],
            "text/plain": [
              "            rotten_tomatoes_link  ... review_length\n",
              "305855             m/dreams_1990  ...        567443\n",
              "579222       m/missing_link_2019  ...        567443\n",
              "800240  m/shoes_of_the_fisherman  ...        567443\n",
              "640256             m/paper_towns  ...        567443\n",
              "741505               m/room_2015  ...        567443\n",
              "\n",
              "[5 rows x 8 columns]"
            ]
          },
          "metadata": {},
          "execution_count": 61
        }
      ]
    },
    {
      "cell_type": "code",
      "metadata": {
        "id": "Mgg3uocpQ01G"
      },
      "source": [
        "review_df_clean = review_df_clean[review_df_clean['review_content'] != 'nan'] #remove empty reviews\n",
        "review_df_clean = review_df_clean[review_df_clean['review_date'] >= '2000-01-02'] \n",
        "# filter for only reviews since 2000. There were 36k+ (way too many for one) reviews on Jan 1, 2000, so we start on Jan 2"
      ],
      "execution_count": null,
      "outputs": []
    },
    {
      "cell_type": "markdown",
      "metadata": {
        "id": "zMfpaqgmh_15"
      },
      "source": [
        "We have created three corpuses below utilizing the tokenized column. "
      ]
    },
    {
      "cell_type": "code",
      "metadata": {
        "id": "ebnDJeBRf7ux"
      },
      "source": [
        "review_corpus = review_df_clean['tok']\n"
      ],
      "execution_count": null,
      "outputs": []
    },
    {
      "cell_type": "code",
      "metadata": {
        "colab": {
          "base_uri": "https://localhost:8080/",
          "height": 289
        },
        "id": "KL1cZUgeggcb",
        "outputId": "1f2f8d9c-9ecd-48b4-c078-08f6ee041ee8"
      },
      "source": [
        "rotten_df = review_df_clean[review_df_clean['review_type'] == 'Rotten']\n",
        "rotten_df.sample(5)"
      ],
      "execution_count": null,
      "outputs": [
        {
          "output_type": "execute_result",
          "data": {
            "text/html": [
              "<div>\n",
              "<style scoped>\n",
              "    .dataframe tbody tr th:only-of-type {\n",
              "        vertical-align: middle;\n",
              "    }\n",
              "\n",
              "    .dataframe tbody tr th {\n",
              "        vertical-align: top;\n",
              "    }\n",
              "\n",
              "    .dataframe thead th {\n",
              "        text-align: right;\n",
              "    }\n",
              "</style>\n",
              "<table border=\"1\" class=\"dataframe\">\n",
              "  <thead>\n",
              "    <tr style=\"text-align: right;\">\n",
              "      <th></th>\n",
              "      <th>rotten_tomatoes_link</th>\n",
              "      <th>review_type</th>\n",
              "      <th>top_critic</th>\n",
              "      <th>review_date</th>\n",
              "      <th>review_content</th>\n",
              "      <th>date</th>\n",
              "      <th>tok</th>\n",
              "    </tr>\n",
              "  </thead>\n",
              "  <tbody>\n",
              "    <tr>\n",
              "      <th>491848</th>\n",
              "      <td>m/killing_season</td>\n",
              "      <td>Rotten</td>\n",
              "      <td>True</td>\n",
              "      <td>7/11/2013</td>\n",
              "      <td>If you've always wanted to see Robert De Niro ...</td>\n",
              "      <td>2013-07-11</td>\n",
              "      <td>[If, you, 've, always, wanted, to, see, Robert...</td>\n",
              "    </tr>\n",
              "    <tr>\n",
              "      <th>87205</th>\n",
              "      <td>m/21_jump_street_2011</td>\n",
              "      <td>Rotten</td>\n",
              "      <td>False</td>\n",
              "      <td>3/19/2012</td>\n",
              "      <td>Strained and crass comedy.</td>\n",
              "      <td>2012-03-19</td>\n",
              "      <td>[Strained, and, crass, comedy, .]</td>\n",
              "    </tr>\n",
              "    <tr>\n",
              "      <th>676510</th>\n",
              "      <td>m/project_x_2011</td>\n",
              "      <td>Rotten</td>\n",
              "      <td>True</td>\n",
              "      <td>3/1/2012</td>\n",
              "      <td>Have teenagers always been this idiotic or doe...</td>\n",
              "      <td>2012-03-01</td>\n",
              "      <td>[Have, teenagers, always, been, this, idiotic,...</td>\n",
              "    </tr>\n",
              "    <tr>\n",
              "      <th>661838</th>\n",
              "      <td>m/popstar_never_stop_never_stopping</td>\n",
              "      <td>Rotten</td>\n",
              "      <td>True</td>\n",
              "      <td>6/2/2016</td>\n",
              "      <td>Samberg, Taccone and Schaffer are all alums of...</td>\n",
              "      <td>2016-06-02</td>\n",
              "      <td>[Samberg, ,, Taccone, and, Schaffer, are, all,...</td>\n",
              "    </tr>\n",
              "    <tr>\n",
              "      <th>554129</th>\n",
              "      <td>m/mara_2018</td>\n",
              "      <td>Rotten</td>\n",
              "      <td>True</td>\n",
              "      <td>9/7/2018</td>\n",
              "      <td>A generically conceived horror thriller distin...</td>\n",
              "      <td>2018-09-07</td>\n",
              "      <td>[A, generically, conceived, horror, thriller, ...</td>\n",
              "    </tr>\n",
              "  </tbody>\n",
              "</table>\n",
              "</div>"
            ],
            "text/plain": [
              "                       rotten_tomatoes_link  ...                                                tok\n",
              "491848                     m/killing_season  ...  [If, you, 've, always, wanted, to, see, Robert...\n",
              "87205                 m/21_jump_street_2011  ...                  [Strained, and, crass, comedy, .]\n",
              "676510                     m/project_x_2011  ...  [Have, teenagers, always, been, this, idiotic,...\n",
              "661838  m/popstar_never_stop_never_stopping  ...  [Samberg, ,, Taccone, and, Schaffer, are, all,...\n",
              "554129                          m/mara_2018  ...  [A, generically, conceived, horror, thriller, ...\n",
              "\n",
              "[5 rows x 7 columns]"
            ]
          },
          "metadata": {},
          "execution_count": 12
        }
      ]
    },
    {
      "cell_type": "code",
      "metadata": {
        "id": "jb12ojxOgu56"
      },
      "source": [
        "rotten_corpus = rotten_df['tok']"
      ],
      "execution_count": null,
      "outputs": []
    },
    {
      "cell_type": "code",
      "metadata": {
        "id": "BR2rZsn-SKai"
      },
      "source": [
        "rotten_list = [item for sublist in rotten_corpus for item in sublist] #convert to flat list vs list of lists\n"
      ],
      "execution_count": null,
      "outputs": []
    },
    {
      "cell_type": "code",
      "metadata": {
        "colab": {
          "base_uri": "https://localhost:8080/",
          "height": 289
        },
        "id": "8W49P-FghAcI",
        "outputId": "ed8fc13f-c936-4308-bd67-4220a213d705"
      },
      "source": [
        "fresh_df = review_df_clean[review_df_clean['review_type'] == 'Fresh']\n",
        "fresh_df.sample(5)"
      ],
      "execution_count": null,
      "outputs": [
        {
          "output_type": "execute_result",
          "data": {
            "text/html": [
              "<div>\n",
              "<style scoped>\n",
              "    .dataframe tbody tr th:only-of-type {\n",
              "        vertical-align: middle;\n",
              "    }\n",
              "\n",
              "    .dataframe tbody tr th {\n",
              "        vertical-align: top;\n",
              "    }\n",
              "\n",
              "    .dataframe thead th {\n",
              "        text-align: right;\n",
              "    }\n",
              "</style>\n",
              "<table border=\"1\" class=\"dataframe\">\n",
              "  <thead>\n",
              "    <tr style=\"text-align: right;\">\n",
              "      <th></th>\n",
              "      <th>rotten_tomatoes_link</th>\n",
              "      <th>review_type</th>\n",
              "      <th>top_critic</th>\n",
              "      <th>review_date</th>\n",
              "      <th>review_content</th>\n",
              "      <th>date</th>\n",
              "      <th>tok</th>\n",
              "    </tr>\n",
              "  </thead>\n",
              "  <tbody>\n",
              "    <tr>\n",
              "      <th>740805</th>\n",
              "      <td>m/romy_and_micheles_high_school_reunion</td>\n",
              "      <td>Fresh</td>\n",
              "      <td>False</td>\n",
              "      <td>5/17/2015</td>\n",
              "      <td>Writer Robin Schiff, adapting her own play, is...</td>\n",
              "      <td>2015-05-17</td>\n",
              "      <td>[Writer, Robin, Schiff, ,, adapting, her, own,...</td>\n",
              "    </tr>\n",
              "    <tr>\n",
              "      <th>876979</th>\n",
              "      <td>m/station_agent</td>\n",
              "      <td>Fresh</td>\n",
              "      <td>False</td>\n",
              "      <td>5/14/2004</td>\n",
              "      <td>It's The Station Agent's meditation on the sma...</td>\n",
              "      <td>2004-05-14</td>\n",
              "      <td>[It, 's, The, Station, Agent, 's, meditation, ...</td>\n",
              "    </tr>\n",
              "    <tr>\n",
              "      <th>765910</th>\n",
              "      <td>m/scenic_route</td>\n",
              "      <td>Fresh</td>\n",
              "      <td>False</td>\n",
              "      <td>7/26/2013</td>\n",
              "      <td>This script, by Kyle Killen, and direction fro...</td>\n",
              "      <td>2013-07-26</td>\n",
              "      <td>[This, script, ,, by, Kyle, Killen, ,, and, di...</td>\n",
              "    </tr>\n",
              "    <tr>\n",
              "      <th>553283</th>\n",
              "      <td>m/maniac_2013</td>\n",
              "      <td>Fresh</td>\n",
              "      <td>False</td>\n",
              "      <td>3/2/2019</td>\n",
              "      <td>I appreciated just how bloody and uncomfortabl...</td>\n",
              "      <td>2019-03-02</td>\n",
              "      <td>[I, appreciated, just, how, bloody, and, uncom...</td>\n",
              "    </tr>\n",
              "    <tr>\n",
              "      <th>150378</th>\n",
              "      <td>m/austenland_2013</td>\n",
              "      <td>Fresh</td>\n",
              "      <td>False</td>\n",
              "      <td>9/27/2013</td>\n",
              "      <td>The enduring appeal of Jane Austen's England i...</td>\n",
              "      <td>2013-09-27</td>\n",
              "      <td>[The, enduring, appeal, of, Jane, Austen, 's, ...</td>\n",
              "    </tr>\n",
              "  </tbody>\n",
              "</table>\n",
              "</div>"
            ],
            "text/plain": [
              "                           rotten_tomatoes_link  ...                                                tok\n",
              "740805  m/romy_and_micheles_high_school_reunion  ...  [Writer, Robin, Schiff, ,, adapting, her, own,...\n",
              "876979                          m/station_agent  ...  [It, 's, The, Station, Agent, 's, meditation, ...\n",
              "765910                           m/scenic_route  ...  [This, script, ,, by, Kyle, Killen, ,, and, di...\n",
              "553283                            m/maniac_2013  ...  [I, appreciated, just, how, bloody, and, uncom...\n",
              "150378                        m/austenland_2013  ...  [The, enduring, appeal, of, Jane, Austen, 's, ...\n",
              "\n",
              "[5 rows x 7 columns]"
            ]
          },
          "metadata": {},
          "execution_count": 15
        }
      ]
    },
    {
      "cell_type": "code",
      "metadata": {
        "id": "9GNPFsqdhIUr"
      },
      "source": [
        "fresh_corpus = fresh_df['tok']"
      ],
      "execution_count": null,
      "outputs": []
    },
    {
      "cell_type": "code",
      "metadata": {
        "colab": {
          "base_uri": "https://localhost:8080/"
        },
        "id": "YJhBNDAIW5DB",
        "outputId": "0fbbc19e-3f22-42b7-bca7-779f0e5b8d01"
      },
      "source": [
        "review_list = [item for sublist in review_corpus for item in sublist] #convert to flat list vs list of lists\n",
        "review_list[20:50]"
      ],
      "execution_count": null,
      "outputs": [
        {
          "output_type": "execute_result",
          "data": {
            "text/plain": [
              "['is',\n",
              " 'often',\n",
              " 'rightfully',\n",
              " 'noted',\n",
              " 'for',\n",
              " 'its',\n",
              " 'technical',\n",
              " 'achievements',\n",
              " 'but',\n",
              " 'what',\n",
              " 'is',\n",
              " 'often',\n",
              " 'overlooked',\n",
              " 'is',\n",
              " 'its',\n",
              " 'emotional',\n",
              " 'power',\n",
              " '.',\n",
              " 'When',\n",
              " 'one',\n",
              " 'speaks',\n",
              " 'of',\n",
              " 'The',\n",
              " 'Passion',\n",
              " 'of',\n",
              " 'Joan',\n",
              " 'of',\n",
              " 'Arc',\n",
              " ',',\n",
              " 'the']"
            ]
          },
          "metadata": {},
          "execution_count": 17
        }
      ]
    },
    {
      "cell_type": "code",
      "metadata": {
        "colab": {
          "base_uri": "https://localhost:8080/"
        },
        "id": "BX18c3BUKboT",
        "outputId": "8b36e4c6-0d81-45be-9bef-f8ff32c74a88"
      },
      "source": [
        "# combines each list of tokens into one large, tokenized document. Think of this like a book where every sentence is a new review\n",
        "fresh_list = [item for sublist in fresh_corpus for item in sublist] #convert to flat list vs list of lists\n",
        "fresh_list[20:50]"
      ],
      "execution_count": null,
      "outputs": [
        {
          "output_type": "execute_result",
          "data": {
            "text/plain": [
              "['is',\n",
              " 'often',\n",
              " 'rightfully',\n",
              " 'noted',\n",
              " 'for',\n",
              " 'its',\n",
              " 'technical',\n",
              " 'achievements',\n",
              " 'but',\n",
              " 'what',\n",
              " 'is',\n",
              " 'often',\n",
              " 'overlooked',\n",
              " 'is',\n",
              " 'its',\n",
              " 'emotional',\n",
              " 'power',\n",
              " '.',\n",
              " 'When',\n",
              " 'one',\n",
              " 'speaks',\n",
              " 'of',\n",
              " 'The',\n",
              " 'Passion',\n",
              " 'of',\n",
              " 'Joan',\n",
              " 'of',\n",
              " 'Arc',\n",
              " ',',\n",
              " 'the']"
            ]
          },
          "metadata": {},
          "execution_count": 18
        }
      ]
    },
    {
      "cell_type": "markdown",
      "metadata": {
        "id": "HRAxNGGWiUjd"
      },
      "source": [
        "End of corpus creation"
      ]
    },
    {
      "cell_type": "code",
      "metadata": {
        "colab": {
          "base_uri": "https://localhost:8080/",
          "height": 717
        },
        "id": "kXdxseUNEcb-",
        "outputId": "6ca938e2-17a4-4a17-8f5b-b7111a0b1946"
      },
      "source": [
        "path = 'pathtodirectory/rotten_tomatoes_movies_from_kaggle.csv'\n",
        "movies_df = pd.read_csv(path)\n",
        "movies_df.sample(5)"
      ],
      "execution_count": null,
      "outputs": [
        {
          "output_type": "execute_result",
          "data": {
            "text/html": [
              "<div>\n",
              "<style scoped>\n",
              "    .dataframe tbody tr th:only-of-type {\n",
              "        vertical-align: middle;\n",
              "    }\n",
              "\n",
              "    .dataframe tbody tr th {\n",
              "        vertical-align: top;\n",
              "    }\n",
              "\n",
              "    .dataframe thead th {\n",
              "        text-align: right;\n",
              "    }\n",
              "</style>\n",
              "<table border=\"1\" class=\"dataframe\">\n",
              "  <thead>\n",
              "    <tr style=\"text-align: right;\">\n",
              "      <th></th>\n",
              "      <th>rotten_tomatoes_link</th>\n",
              "      <th>movie_title</th>\n",
              "      <th>movie_info</th>\n",
              "      <th>critics_consensus</th>\n",
              "      <th>content_rating</th>\n",
              "      <th>genres</th>\n",
              "      <th>directors</th>\n",
              "      <th>authors</th>\n",
              "      <th>actors</th>\n",
              "      <th>original_release_date</th>\n",
              "      <th>streaming_release_date</th>\n",
              "      <th>runtime</th>\n",
              "      <th>production_company</th>\n",
              "      <th>tomatometer_status</th>\n",
              "      <th>tomatometer_rating</th>\n",
              "      <th>tomatometer_count</th>\n",
              "      <th>audience_status</th>\n",
              "      <th>audience_rating</th>\n",
              "      <th>audience_count</th>\n",
              "      <th>tomatometer_top_critics_count</th>\n",
              "      <th>tomatometer_fresh_critics_count</th>\n",
              "      <th>tomatometer_rotten_critics_count</th>\n",
              "    </tr>\n",
              "  </thead>\n",
              "  <tbody>\n",
              "    <tr>\n",
              "      <th>3429</th>\n",
              "      <td>m/bennys_video</td>\n",
              "      <td>Benny's Video</td>\n",
              "      <td>Obsessed with violent movies and video technol...</td>\n",
              "      <td>NaN</td>\n",
              "      <td>NR</td>\n",
              "      <td>Art House &amp; International, Drama, Horror</td>\n",
              "      <td>Michael Haneke</td>\n",
              "      <td>Michael Haneke</td>\n",
              "      <td>Arno Frisch, Angela Winkler, Ulrich Mühe, Ingr...</td>\n",
              "      <td>1/1/1992</td>\n",
              "      <td>6/11/2007</td>\n",
              "      <td>105.0</td>\n",
              "      <td>Langfilm</td>\n",
              "      <td>Fresh</td>\n",
              "      <td>64.0</td>\n",
              "      <td>11.0</td>\n",
              "      <td>Upright</td>\n",
              "      <td>75.0</td>\n",
              "      <td>4494.0</td>\n",
              "      <td>3</td>\n",
              "      <td>7</td>\n",
              "      <td>4</td>\n",
              "    </tr>\n",
              "    <tr>\n",
              "      <th>4102</th>\n",
              "      <td>m/bruiser</td>\n",
              "      <td>Bruiser</td>\n",
              "      <td>A milquetoast (Jason Flemyng) awakens with a w...</td>\n",
              "      <td>NaN</td>\n",
              "      <td>R</td>\n",
              "      <td>Art House &amp; International, Horror, Mystery &amp; S...</td>\n",
              "      <td>George A. Romero</td>\n",
              "      <td>George A. Romero</td>\n",
              "      <td>Jason Flemyng, Peter Stormare, Nina Garbiras, ...</td>\n",
              "      <td>1/1/2000</td>\n",
              "      <td>9/11/2015</td>\n",
              "      <td>96.0</td>\n",
              "      <td>LionsGate Entertainment</td>\n",
              "      <td>Fresh</td>\n",
              "      <td>67.0</td>\n",
              "      <td>9.0</td>\n",
              "      <td>Spilled</td>\n",
              "      <td>30.0</td>\n",
              "      <td>3935.0</td>\n",
              "      <td>0</td>\n",
              "      <td>6</td>\n",
              "      <td>3</td>\n",
              "    </tr>\n",
              "    <tr>\n",
              "      <th>14121</th>\n",
              "      <td>m/survivors_guide_to_prison</td>\n",
              "      <td>Survivors Guide to Prison</td>\n",
              "      <td>A harrowing look at a daily life behind the wa...</td>\n",
              "      <td>NaN</td>\n",
              "      <td>NR</td>\n",
              "      <td>Documentary</td>\n",
              "      <td>Matthew Cooke</td>\n",
              "      <td>Matthew Cooke</td>\n",
              "      <td>Susan Sarandon, Patricia Arquette, Danny Glove...</td>\n",
              "      <td>2/23/2018</td>\n",
              "      <td>2/23/2018</td>\n",
              "      <td>102.0</td>\n",
              "      <td>Gravitas Ventures</td>\n",
              "      <td>Fresh</td>\n",
              "      <td>100.0</td>\n",
              "      <td>14.0</td>\n",
              "      <td>Upright</td>\n",
              "      <td>70.0</td>\n",
              "      <td>194.0</td>\n",
              "      <td>5</td>\n",
              "      <td>14</td>\n",
              "      <td>0</td>\n",
              "    </tr>\n",
              "    <tr>\n",
              "      <th>1003</th>\n",
              "      <td>m/1052698-wyatt_earp</td>\n",
              "      <td>Wyatt Earp</td>\n",
              "      <td>The epic biography of western lawman Wyatt Ear...</td>\n",
              "      <td>Easy to admire yet difficult to love, Wyatt Ea...</td>\n",
              "      <td>PG-13</td>\n",
              "      <td>Action &amp; Adventure, Drama, Western</td>\n",
              "      <td>Lawrence Kasdan</td>\n",
              "      <td>Lawrence Kasdan, Dan Gordon</td>\n",
              "      <td>Kevin Costner, Dennis Quaid, Gene Hackman, Mic...</td>\n",
              "      <td>6/24/1994</td>\n",
              "      <td>5/1/2008</td>\n",
              "      <td>191.0</td>\n",
              "      <td>Warner Home Video</td>\n",
              "      <td>Rotten</td>\n",
              "      <td>44.0</td>\n",
              "      <td>27.0</td>\n",
              "      <td>Upright</td>\n",
              "      <td>61.0</td>\n",
              "      <td>50200.0</td>\n",
              "      <td>3</td>\n",
              "      <td>12</td>\n",
              "      <td>15</td>\n",
              "    </tr>\n",
              "    <tr>\n",
              "      <th>16571</th>\n",
              "      <td>m/tuxedo</td>\n",
              "      <td>The Tuxedo</td>\n",
              "      <td>Cabbie-turned-chauffeur Jimmy Tong (Jackie Cha...</td>\n",
              "      <td>Chan is as charming as ever, but his talents a...</td>\n",
              "      <td>PG-13</td>\n",
              "      <td>Action &amp; Adventure, Comedy, Science Fiction &amp; ...</td>\n",
              "      <td>Kevin Donovan</td>\n",
              "      <td>Michael Leeson, Michael J. Wilson, Phil Hay, M...</td>\n",
              "      <td>Jackie Chan, Jennifer Love Hewitt, Jason Isaac...</td>\n",
              "      <td>9/27/2002</td>\n",
              "      <td>8/10/2016</td>\n",
              "      <td>98.0</td>\n",
              "      <td>Dreamworks Distribution LLC</td>\n",
              "      <td>Rotten</td>\n",
              "      <td>21.0</td>\n",
              "      <td>140.0</td>\n",
              "      <td>Spilled</td>\n",
              "      <td>30.0</td>\n",
              "      <td>220696.0</td>\n",
              "      <td>31</td>\n",
              "      <td>30</td>\n",
              "      <td>110</td>\n",
              "    </tr>\n",
              "  </tbody>\n",
              "</table>\n",
              "</div>"
            ],
            "text/plain": [
              "              rotten_tomatoes_link  ... tomatometer_rotten_critics_count\n",
              "3429                m/bennys_video  ...                                4\n",
              "4102                     m/bruiser  ...                                3\n",
              "14121  m/survivors_guide_to_prison  ...                                0\n",
              "1003          m/1052698-wyatt_earp  ...                               15\n",
              "16571                     m/tuxedo  ...                              110\n",
              "\n",
              "[5 rows x 22 columns]"
            ]
          },
          "metadata": {},
          "execution_count": 19
        }
      ]
    },
    {
      "cell_type": "code",
      "metadata": {
        "colab": {
          "base_uri": "https://localhost:8080/"
        },
        "id": "ybv9c1EwIyPn",
        "outputId": "b5ccb1a5-14e0-4dd1-c0df-88e9965ce576"
      },
      "source": [
        "movies_df.dtypes"
      ],
      "execution_count": null,
      "outputs": [
        {
          "output_type": "execute_result",
          "data": {
            "text/plain": [
              "rotten_tomatoes_link                 object\n",
              "movie_title                          object\n",
              "movie_info                           object\n",
              "critics_consensus                    object\n",
              "content_rating                       object\n",
              "genres                               object\n",
              "directors                            object\n",
              "authors                              object\n",
              "actors                               object\n",
              "original_release_date                object\n",
              "streaming_release_date               object\n",
              "runtime                             float64\n",
              "production_company                   object\n",
              "tomatometer_status                   object\n",
              "tomatometer_rating                  float64\n",
              "tomatometer_count                   float64\n",
              "audience_status                      object\n",
              "audience_rating                     float64\n",
              "audience_count                      float64\n",
              "tomatometer_top_critics_count         int64\n",
              "tomatometer_fresh_critics_count       int64\n",
              "tomatometer_rotten_critics_count      int64\n",
              "dtype: object"
            ]
          },
          "metadata": {},
          "execution_count": 20
        }
      ]
    },
    {
      "cell_type": "code",
      "metadata": {
        "id": "kmG6ncokGCCq"
      },
      "source": [
        "movies_df['original_release_year'] = movies_df['original_release_date'].astype(str).apply(lambda x: x[:4])\n",
        "movies_df['original_release_month'] = movies_df['original_release_date'].astype(str).apply(lambda x: x[5:7])"
      ],
      "execution_count": null,
      "outputs": []
    },
    {
      "cell_type": "markdown",
      "metadata": {
        "id": "8gLqDkHA9H7M"
      },
      "source": [
        "##Structured Analytics Overview"
      ]
    },
    {
      "cell_type": "markdown",
      "metadata": {
        "id": "caxjChZJqvKb"
      },
      "source": [
        "Find max, average, and max index of tomatometer rating"
      ]
    },
    {
      "cell_type": "code",
      "metadata": {
        "colab": {
          "base_uri": "https://localhost:8080/"
        },
        "id": "Onp4Grcm26TJ",
        "outputId": "e5fb7dc4-ee82-4d75-f175-04d5442c784a"
      },
      "source": [
        "print(\"Max: {}\".format(np.max(movies_df['audience_rating'])))\n",
        "print(\"Min: {}\".format(np.min(movies_df['audience_rating'])))\n",
        "\n",
        "print(\"Average: {}\".format(np.mean(movies_df['audience_rating'])))\n"
      ],
      "execution_count": null,
      "outputs": [
        {
          "output_type": "stream",
          "name": "stdout",
          "text": [
            "Max: 100.0\n",
            "Min: 0.0\n",
            "Average: 60.55426045016077\n"
          ]
        }
      ]
    },
    {
      "cell_type": "code",
      "metadata": {
        "colab": {
          "base_uri": "https://localhost:8080/",
          "height": 320
        },
        "id": "YS7_16JlIPVJ",
        "outputId": "eab588c7-4014-4c39-fc77-db3e40ffce02"
      },
      "source": [
        "grouped = review_df_clean.groupby(['review_type'])\n",
        "grouped[['review_type']].count().plot(kind = 'bar')"
      ],
      "execution_count": null,
      "outputs": [
        {
          "output_type": "execute_result",
          "data": {
            "text/plain": [
              "<matplotlib.axes._subplots.AxesSubplot at 0x7f9353bef390>"
            ]
          },
          "metadata": {},
          "execution_count": 54
        },
        {
          "output_type": "display_data",
          "data": {
            "image/png": "[encoded data removed]",
            "text/plain": [
              "<Figure size 432x288 with 1 Axes>"
            ]
          },
          "metadata": {
            "needs_background": "light"
          }
        }
      ]
    },
    {
      "cell_type": "markdown",
      "metadata": {
        "id": "X8JgxNMj84ao"
      },
      "source": [
        "##Text Analysis"
      ]
    },
    {
      "cell_type": "markdown",
      "metadata": {
        "id": "nvfaaw_7hUbG"
      },
      "source": [
        "Our three corpuses are review_corpus, fresh_corpus, rotten_corpus. We also have rotten_list and fresh_list. I'm going to comment what I am trying to do"
      ]
    },
    {
      "cell_type": "code",
      "metadata": {
        "colab": {
          "base_uri": "https://localhost:8080/"
        },
        "id": "QU1-ilsNov8s",
        "outputId": "8eec0ff7-c35b-492d-e32d-7156658d122d"
      },
      "source": [
        "import nltk \n",
        "\n",
        "from sklearn.decomposition import LatentDirichletAllocation\n",
        "from sklearn.feature_extraction.text import CountVectorizer \n",
        "\n",
        "import nltk \n",
        "nltk.download(\"punkt\")\n",
        "\n",
        "from nltk.tokenize import word_tokenize\n",
        "\n",
        "print(len(fresh_corpus))\n",
        "print(len(rotten_corpus))"
      ],
      "execution_count": null,
      "outputs": [
        {
          "output_type": "stream",
          "name": "stdout",
          "text": [
            "[nltk_data] Downloading package punkt to /root/nltk_data...\n",
            "[nltk_data]   Package punkt is already up-to-date!\n",
            "361955\n",
            "205488\n"
          ]
        }
      ]
    },
    {
      "cell_type": "code",
      "metadata": {
        "id": "80zUWsnrvC5I"
      },
      "source": [
        "from nltk.corpus import stopwords\n",
        "stopwords_en = stopwords.words('english')\n",
        "import string \n",
        "stopwords_en.extend(string.punctuation)\n",
        "contraction_list = [\"'s\", \"n't\", \"'ve\", \"'m\"]\n",
        "stopwords_en.extend(contraction_list)\n",
        "punctuation_list = [\"''\", \"...\", \"``\" ,\"-\", \"_\", \"—\", \"—\", \"--\"]\n",
        "stopwords_en.extend(punctuation_list)"
      ],
      "execution_count": null,
      "outputs": []
    },
    {
      "cell_type": "code",
      "metadata": {
        "id": "NasDBld8XE9Q"
      },
      "source": [
        "review_no_stop = []\n",
        "for w in review_list:\n",
        "  if w.lower() not in stopwords_en:\n",
        "    review_no_stop.append(w.lower())"
      ],
      "execution_count": null,
      "outputs": []
    },
    {
      "cell_type": "code",
      "metadata": {
        "id": "yGnj0Q1Jv9DH"
      },
      "source": [
        "fresh_no_stop = []\n",
        "for w in fresh_list:\n",
        "  if w.lower() not in stopwords_en:\n",
        "    fresh_no_stop.append(w.lower())"
      ],
      "execution_count": null,
      "outputs": []
    },
    {
      "cell_type": "code",
      "metadata": {
        "id": "vM0-mY5YU37_"
      },
      "source": [
        "rotten_no_stop = []\n",
        "for w in rotten_list:\n",
        "  if w.lower() not in stopwords_en:\n",
        "    rotten_no_stop.append(w.lower())"
      ],
      "execution_count": null,
      "outputs": []
    },
    {
      "cell_type": "markdown",
      "metadata": {
        "id": "62RlR_ntxb1n"
      },
      "source": [
        "Frequency Distribution Plots - This shows the most frequent words across fresh and rotten reviews. We see a lot of the same words with some exceptions (\"good\" and \"bad\" for example)"
      ]
    },
    {
      "cell_type": "code",
      "metadata": {
        "colab": {
          "base_uri": "https://localhost:8080/",
          "height": 322
        },
        "id": "vLs7SV1AXJAr",
        "outputId": "5bea7ad3-95df-4803-eee2-8503b5245a71"
      },
      "source": [
        "from nltk import FreqDist\n",
        "fdistrev = FreqDist(review_no_stop)\n",
        "fdistrev\n",
        "fdistrev.plot(20, cumulative=True)"
      ],
      "execution_count": null,
      "outputs": [
        {
          "output_type": "display_data",
          "data": {
            "image/png": "[encoded data removed]",
            "text/plain": [
              "<Figure size 432x288 with 1 Axes>"
            ]
          },
          "metadata": {
            "needs_background": "light"
          }
        }
      ]
    },
    {
      "cell_type": "code",
      "metadata": {
        "colab": {
          "base_uri": "https://localhost:8080/",
          "height": 309
        },
        "id": "tr3jM5dMNRn3",
        "outputId": "5e15097b-9ab2-4480-e02b-425436bd6672"
      },
      "source": [
        "## obviously remove a bunch of stopwords and punctuation we don't care about first but otherwise this will work - it's not removing stop words\n",
        "from nltk import FreqDist\n",
        "fdistfresh = FreqDist(fresh_no_stop)\n",
        "fdistfresh \n",
        "fdistfresh.plot(20, cumulative=True)"
      ],
      "execution_count": null,
      "outputs": [
        {
          "output_type": "display_data",
          "data": {
            "image/png": "[encoded data removed]",
            "text/plain": [
              "<Figure size 432x288 with 1 Axes>"
            ]
          },
          "metadata": {
            "needs_background": "light"
          }
        }
      ]
    },
    {
      "cell_type": "code",
      "metadata": {
        "colab": {
          "base_uri": "https://localhost:8080/",
          "height": 322
        },
        "id": "XT1ckvauzE8k",
        "outputId": "a2da772a-9979-4e09-91ab-98769a8d1589"
      },
      "source": [
        "from nltk import FreqDist\n",
        "fdistrot = FreqDist(rotten_no_stop)\n",
        "fdistrot\n",
        "fdistrot.plot(20, cumulative=True)"
      ],
      "execution_count": null,
      "outputs": [
        {
          "output_type": "display_data",
          "data": {
            "image/png": "[encoded data removed]",
            "text/plain": [
              "<Figure size 432x288 with 1 Axes>"
            ]
          },
          "metadata": {
            "needs_background": "light"
          }
        }
      ]
    },
    {
      "cell_type": "markdown",
      "metadata": {
        "id": "sGd0volht-8p"
      },
      "source": [
        "Lexical Diversity which represents what percentage of all of the words are unique words it's hard to compare across corpora if they aren't the same length as long texts end up using more very common words. I think this works."
      ]
    },
    {
      "cell_type": "code",
      "metadata": {
        "colab": {
          "base_uri": "https://localhost:8080/"
        },
        "id": "iTAHyNfpndS3",
        "outputId": "eeb721ec-c911-4f20-fac8-1c2194ec7d86"
      },
      "source": [
        "def lexical_diversity(corpus):\n",
        "  result = len(set(corpus))/len(corpus)\n",
        "  return result\n",
        "\n",
        "print(lexical_diversity(review_list))\n",
        "print(lexical_diversity(fresh_list))\n",
        "print(lexical_diversity(rotten_list))"
      ],
      "execution_count": null,
      "outputs": [
        {
          "output_type": "stream",
          "name": "stdout",
          "text": [
            "0.012470273732084761\n",
            "0.014947374442220326\n",
            "0.02132560674216386\n"
          ]
        }
      ]
    },
    {
      "cell_type": "markdown",
      "metadata": {
        "id": "gpVufLP6xmI2"
      },
      "source": [
        "Analyzing how similar words are used in rotten verses fresh comments. Does not work. Error is 'list' object has no attribute 'similar'. This is a very common repeated error which I cannot figure out how to change. "
      ]
    },
    {
      "cell_type": "code",
      "metadata": {
        "id": "axLd_31nZzhK"
      },
      "source": [
        "revnltk = nltk.Text(review_list[0:25000]) # look at first 25000 tokens so we can run it, otherwise it takes way too long\n",
        "freshnltk = nltk.Text(fresh_list[0:25000])\n",
        "rotnltk = nltk.Text(rotten_list[0:25000]) "
      ],
      "execution_count": null,
      "outputs": []
    },
    {
      "cell_type": "code",
      "metadata": {
        "colab": {
          "base_uri": "https://localhost:8080/"
        },
        "id": "6ZX1ULaSNt8H",
        "outputId": "a6a56bfa-ca9e-4c9b-a895-fba9cd4747f0"
      },
      "source": [
        "revnltk.similar(\"film\")\n",
        "print(\"\\n\")\n",
        "freshnltk.similar(\"film\")\n",
        "print(\"\\n\")\n",
        "rotnltk.similar(\"film\")"
      ],
      "execution_count": null,
      "outputs": [
        {
          "output_type": "stream",
          "name": "stdout",
          "text": [
            "movie gates story comedy picture audience time characters plot script\n",
            "humor sequel actors formula cast year is western all masterpiece\n",
            "\n",
            "\n",
            "movie story comedy is drama picture time world treat production\n",
            "characters humor acting original bit script result actors heart\n",
            "message\n",
            "\n",
            "\n",
            "movie story script comedy audience kid role screen end sequel original\n",
            "acting picture gates structure guy entire brothers and one\n"
          ]
        }
      ]
    },
    {
      "cell_type": "code",
      "metadata": {
        "colab": {
          "base_uri": "https://localhost:8080/"
        },
        "id": "rcMB8VcKj8BM",
        "outputId": "53c5c923-92bf-44e7-90c6-2553cb70b286"
      },
      "source": [
        "revnltk.similar(\"story\")\n",
        "print(\"\\n\")\n",
        "freshnltk.similar(\"story\")\n",
        "print(\"\\n\")\n",
        "rotnltk.similar(\"story\")"
      ],
      "execution_count": null,
      "outputs": [
        {
          "output_type": "stream",
          "name": "stdout",
          "text": [
            "film movie humor picture audience time script premise comedy result\n",
            "way role sort top kind formula heart cast rest gates\n",
            "\n",
            "\n",
            "movie film picture cast comedy result way kind heart tale screen sort\n",
            "gates brothers century passion mind face world are\n",
            "\n",
            "\n",
            "film movie audience plot script end role suspense time theory way\n",
            "acting comedy formula rest premise structure this most kid\n"
          ]
        }
      ]
    },
    {
      "cell_type": "code",
      "metadata": {
        "colab": {
          "base_uri": "https://localhost:8080/"
        },
        "id": "pAqah7tnMNuP",
        "outputId": "4b42dad0-b0bb-4037-92f5-db8889594246"
      },
      "source": [
        "freshnltk.similar(\"good\")\n",
        "print(\"\\n\")\n",
        "rotnltk.similar(\"good\")"
      ],
      "execution_count": null,
      "outputs": [
        {
          "output_type": "stream",
          "name": "stdout",
          "text": [
            "grand often a much true hitchcock love single well simple bond light\n",
            "thrilling buddy mainstream right terrific wonderful family funny\n",
            "\n",
            "\n",
            "bad right funny long idea much time less gimmick mysterious title\n",
            "characters love clever road dumb real timely shabby truth\n"
          ]
        }
      ]
    },
    {
      "cell_type": "code",
      "metadata": {
        "colab": {
          "base_uri": "https://localhost:8080/"
        },
        "id": "dpEZ9YDKMT-Z",
        "outputId": "0b659a8c-e9b2-4da1-e3f1-b84b3f1ea350"
      },
      "source": [
        "freshnltk.similar(\"bad\")\n",
        "print(\"\\n\")\n",
        "rotnltk.similar(\"bad\")"
      ],
      "execution_count": null,
      "outputs": [
        {
          "output_type": "stream",
          "name": "stdout",
          "text": [
            "quality tremendous devastating better major terrific family\n",
            "contemporary period great remarkable nasty winning quiet controlled\n",
            "hypnotic french\n",
            "\n",
            "\n",
            "good funny the script are that much share time eloquence film their\n",
            "quite more less original place mysterious theory story\n"
          ]
        }
      ]
    },
    {
      "cell_type": "code",
      "metadata": {
        "colab": {
          "base_uri": "https://localhost:8080/"
        },
        "id": "Oby_1HgykEKJ",
        "outputId": "a3945887-8195-4400-9d50-da0dc2b51fb8"
      },
      "source": [
        "revnltk.similar(\"comedy\")\n",
        "print(\"\\n\")\n",
        "freshnltk.similar(\"comedy\")\n",
        "print(\"\\n\")\n",
        "rotnltk.similar(\"comedy\")"
      ],
      "execution_count": null,
      "outputs": [
        {
          "output_type": "stream",
          "name": "stdout",
          "text": [
            "movie film story script formula picture for but masterpiece dialogue\n",
            "and production cinematography birds plot storytelling balance humor\n",
            "action acting\n",
            "\n",
            "\n",
            "movie film story drama picture game ending for time dialogue hitchcock\n",
            "love dance treat man performance production birds whole characters\n",
            "\n",
            "\n",
            "movie film script role story this plot spy kid boy result balance\n",
            "focus sequel howler avengers acting scene formula lot\n"
          ]
        }
      ]
    },
    {
      "cell_type": "code",
      "metadata": {
        "colab": {
          "base_uri": "https://localhost:8080/"
        },
        "id": "kW4ZDAOwkKK_",
        "outputId": "712d8e26-d354-4b5f-d9da-299db634f142"
      },
      "source": [
        "revnltk.similar(\"characters\")\n",
        "print(\"\\n\")\n",
        "freshnltk.similar(\"characters\")\n",
        "print(\"\\n\")\n",
        "rotnltk.similar(\"characters\")"
      ],
      "execution_count": null,
      "outputs": [
        {
          "output_type": "stream",
          "name": "stdout",
          "text": [
            "film movie western best music story performances bad own kids idea\n",
            "humor end original zemeckis fact tension blood eloquence stuff\n",
            "\n",
            "\n",
            "film actors jokes fun first mind all always time best hitchcock love\n",
            "dance performances own kids humor suspense end original\n",
            "\n",
            "\n",
            "idea time gates pussycats to good script eloquence film end original\n",
            "gimmick stars same place three theory kind title images\n"
          ]
        }
      ]
    },
    {
      "cell_type": "code",
      "metadata": {
        "colab": {
          "base_uri": "https://localhost:8080/"
        },
        "id": "sGA_lF1FkjIp",
        "outputId": "5572c5ac-f727-414b-bd18-4ae7f193a22c"
      },
      "source": [
        "revnltk.similar(\"actors\")\n",
        "print(\"\\n\")\n",
        "freshnltk.similar(\"actors\")\n",
        "print(\"\\n\")\n",
        "rotnltk.similar(\"actors\")"
      ],
      "execution_count": null,
      "outputs": [
        {
          "output_type": "stream",
          "name": "stdout",
          "text": [
            "film all time and on good story suspense role gimmick picture message\n",
            "particularly clothes audience job gag weaknesses effort truth\n",
            "\n",
            "\n",
            "film characters movie you all time are story performances suspense\n",
            "concept minutes script picture pathos jokes message images\n",
            "particularly clothes\n",
            "\n",
            "\n",
            "movie movies best kids cia\n"
          ]
        }
      ]
    },
    {
      "cell_type": "code",
      "metadata": {
        "colab": {
          "base_uri": "https://localhost:8080/"
        },
        "id": "aNE0yt8nkTtd",
        "outputId": "48205d1f-1e01-4a8a-d876-6695797b5904"
      },
      "source": [
        "revnltk.similar(\"director\")\n",
        "print(\"\\n\")\n",
        "freshnltk.similar(\"director\")\n",
        "print(\"\\n\")\n",
        "rotnltk.similar(\"director\")"
      ],
      "execution_count": null,
      "outputs": [
        {
          "output_type": "stream",
          "name": "stdout",
          "text": [
            "what movie film time performances right stuff picture pleasure tear\n",
            "cast reminder throughout prick credit companion return snap\n",
            "\n",
            "\n",
            "what film treat right thrill pleasure tear lot need trip credit\n",
            "tribute return compliment snap tunnels caliber shock marvel missile\n",
            "\n",
            "\n",
            "performances man dog after genius\n"
          ]
        }
      ]
    },
    {
      "cell_type": "markdown",
      "metadata": {
        "id": "UySqF5u0xwl-"
      },
      "source": [
        "Analyzing Common Contexts of Words in Fresh verses Rotten. Does not work. Error is 'list' object has no attribute 'similar'. This is a very common repeated error which I cannot figure out how to change. "
      ]
    },
    {
      "cell_type": "code",
      "metadata": {
        "colab": {
          "base_uri": "https://localhost:8080/"
        },
        "id": "7fkzWsAex2e-",
        "outputId": "f4d523dd-b16a-4207-8449-911d370b7ed0"
      },
      "source": [
        "revnltk.common_contexts(['film','movie'])\n",
        "print(\"\\n\")\n",
        "freshnltk.common_contexts(['film','movie'])\n",
        "print(\"\\n\")\n",
        "rotnltk.common_contexts(['film','movie'])"
      ],
      "execution_count": null,
      "outputs": [
        {
          "output_type": "stream",
          "name": "stdout",
          "text": [
            "the_in a_that the_is this_is the_just a_to a_made the_never the_does\n",
            "the_seagal this_a a_for this_was\n",
            "\n",
            "\n",
            "the_is a_that this_is the_a a_of the_does the_seagal this_a a_a\n",
            "the_would a_with the_works a_about\n",
            "\n",
            "\n",
            "the_in a_that the_is the_seems the_just a_made the_never this_is\n",
            "this_was the_does this_does the_itself the_looks\n"
          ]
        }
      ]
    },
    {
      "cell_type": "code",
      "metadata": {
        "colab": {
          "base_uri": "https://localhost:8080/"
        },
        "id": "wjb3PRDglRMl",
        "outputId": "0d3d91b3-94f0-41f6-b3e3-28f127055589"
      },
      "source": [
        "revnltk.common_contexts(['film','story'])\n",
        "print(\"\\n\")\n",
        "freshnltk.common_contexts(['film','story'])\n",
        "print(\"\\n\")\n",
        "rotnltk.common_contexts(['film','story'])"
      ],
      "execution_count": null,
      "outputs": [
        {
          "output_type": "stream",
          "name": "stdout",
          "text": [
            "a_that the_is the_a the_and\n",
            "\n",
            "\n",
            "the_is a_that the_a a_which\n",
            "\n",
            "\n",
            "a_that the_is the_a the_never the_more the_and\n"
          ]
        }
      ]
    },
    {
      "cell_type": "code",
      "metadata": {
        "colab": {
          "base_uri": "https://localhost:8080/"
        },
        "id": "O8TIZ49XlYfw",
        "outputId": "d6405314-66da-4444-a1d7-1f8429fa9904"
      },
      "source": [
        "revnltk.common_contexts(['movie','story'])\n",
        "print(\"\\n\")\n",
        "freshnltk.common_contexts(['movie','story'])\n",
        "print(\"\\n\")\n",
        "rotnltk.common_contexts(['movie','story'])"
      ],
      "execution_count": null,
      "outputs": [
        {
          "output_type": "stream",
          "name": "stdout",
          "text": [
            "the_is a_that the_has\n",
            "\n",
            "\n",
            "the_is a_that the_has the_a\n",
            "\n",
            "\n",
            "the_is a_that the_never the_to a_in\n"
          ]
        }
      ]
    },
    {
      "cell_type": "code",
      "metadata": {
        "colab": {
          "base_uri": "https://localhost:8080/"
        },
        "id": "vXxE5EArmN_c",
        "outputId": "bc510620-368c-4a4e-9c6c-db30d1b135db"
      },
      "source": [
        "revnltk.concordance(\"very\")\n",
        "print(\"\\n\")\n",
        "freshnltk.concordance(\"very\")\n",
        "print(\"\\n\")\n",
        "rotnltk.concordance(\"very\")"
      ],
      "execution_count": null,
      "outputs": [
        {
          "output_type": "stream",
          "name": "stdout",
          "text": [
            "Displaying 25 of 31 matches:\n",
            ". Corman 's adaptation was shot on a very low budget which shows in the overal\n",
            "briskly along . The movie never gets very serious and yet you care about the c\n",
            "ue with the concept . Octopussy is a very minor entry in the Bond franchise . \n",
            "ise . The last 15 minutes or so is a very satisfying bit of horror cinema . Cr\n",
            "here is rings false and despite some very watchable performances , especially \n",
            " up by Howard with a steady , if not very imaginative , hand . It chronicles o\n",
            " , mainstream Hollywood comedy about very modern homosexuality . Nearly everyt\n",
            "es . All in all a remarkable and yet very uneven film . All in all a remarkabl\n",
            "lm . All in all a remarkable and yet very uneven film . The remaining battle s\n",
            "ilers and TV ads , it 's actually so very much worse even than that . A rollic\n",
            "ilers and TV ads , it 's actually so very much worse even than that . We in th\n",
            "ediocrity . There is nothing in this very slight road movie ... that remotely \n",
            "more of this kind of work ) are both very good . Almost everything works in th\n",
            "or . A captivating , sharp-tongued , very funny romp . See Spot Run is one of \n",
            "nough waste of time . It 's actually very well made . If you 're tired of feel\n",
            "tioning with kids ' films nowadays . Very pleasant , low-key entertainment . T\n",
            "ut no less entertaining for that . A very original and timely movie which conn\n",
            ", especially young people . Hawke is very trying as he spouts Shakespeare 's 1\n",
            "e watched for its plot mechanics and very occasional laughs rather than with a\n",
            " edge of pathos to offset some often very broad humor is its pervading sense o\n",
            "bit it in the nose . 15 Minutes is a very compelling movie about a situation w\n",
            "-the-clues , get-the-bad-guy movie A very nice piece of work . I started smili\n",
            "rs of World War II participants in a very personal and meaningful way . Sad , \n",
            " itself , The Dish might have been a very special movie . It 's remarkable . I\n",
            " Hit and Runway is the tentative but very real friendship that develops betwee\n",
            "\n",
            "\n",
            "Displaying 25 of 36 matches:\n",
            ". Corman 's adaptation was shot on a very low budget which shows in the overal\n",
            "briskly along . The movie never gets very serious and yet you care about the c\n",
            "ept . The last 15 minutes or so is a very satisfying bit of horror cinema . Cr\n",
            " up by Howard with a steady , if not very imaginative , hand . It chronicles o\n",
            " , mainstream Hollywood comedy about very modern homosexuality . Nearly everyt\n",
            "es . All in all a remarkable and yet very uneven film . All in all a remarkabl\n",
            "lm . All in all a remarkable and yet very uneven film . The remaining battle s\n",
            "more of this kind of work ) are both very good . Almost everything works in th\n",
            "ie . A captivating , sharp-tongued , very funny romp . The performances from t\n",
            "nough waste of time . It 's actually very well made . If you 're tired of feel\n",
            "tioning with kids ' films nowadays . Very pleasant , low-key entertainment . A\n",
            "ut no less entertaining for that . A very original and timely movie which conn\n",
            " edge of pathos to offset some often very broad humor is its pervading sense o\n",
            "la sala de proyeccin 15 Minutes is a very compelling movie about a situation w\n",
            "-the-clues , get-the-bad-guy movie A very nice piece of work . I started smili\n",
            "rs of World War II participants in a very personal and meaningful way . That a\n",
            " Hit and Runway is the tentative but very real friendship that develops betwee\n",
            "ious shortcomings : it happens to be very funny , and fairly consistently so .\n",
            " I walked out of the theater feeling very happy . `` Enemy at the Gates '' giv\n",
            " I walked out of the theater feeling very happy . essentially an old-fashioned\n",
            "g-time . A visually chilly but often very funny satire of American greed and c\n",
            " . Goony and pleasurable , and often very funny . Glossy fun , but it should h\n",
            "so unrelentingly unironic , that the very guilelessness of it makes you want t\n",
            " and goes down easy -- but it 's not very filling . Still , it 's tasty while \n",
            "he fun . The quickening pulse is the very real performance of Ashley Judd If a\n",
            "\n",
            "\n",
            "Displaying 25 of 31 matches:\n",
            " Loved Me 's script . Octopussy is a very minor entry in the Bond franchise . \n",
            "here is rings false and despite some very watchable performances , especially \n",
            "ilers and TV ads , it 's actually so very much worse even than that . Eventual\n",
            "ilers and TV ads , it 's actually so very much worse even than that . The craw\n",
            "ediocrity . There is nothing in this very slight road movie ... that remotely \n",
            "rs , especially Malkovich . Hawke is very trying as he spouts Shakespeare 's 1\n",
            "e watched for its plot mechanics and very occasional laughs rather than with a\n",
            " itself , The Dish might have been a very special movie . It does not have the\n",
            "men say they are , the film makes it very difficult to believe they are friend\n",
            "s gross , all right . It 's just not very funny . The movie does n't understan\n",
            " Ultimately , The Brothers ends on a very girlie note . Say It Is n't So attem\n",
            "s gross , all right . It 's just not very funny . A one-joke , one-note turkey\n",
            "ever , because of great work by some very talented actors . The filmmakers see\n",
            "ating spinning credits sequence to a very talented but underutilized supportin\n",
            "lse to irrational emotionalism . The very definition of innocuous . Has all th\n",
            "e area . More damagingly , it 's not very funny . A well-acted disappointment \n",
            "oefully underwritten script , is n't very palatable . It brings the gross-out \n",
            "s it tedious and insipid ... but its very existence hinges upon a plot point s\n",
            "humor do n't exactly mesh . There 's very little to laugh at here . None of th\n",
            " at a man who in the end just is n't very interesting . You Should Pay Nine Bu\n",
            "oices in life , but it does make the very great mistake of asking us , in the \n",
            ". Impersonal , barely ept . From the very beginning of the movie , irritating \n",
            " life in wholesale . Despite opening very strong , after the film 's first thi\n",
            " the far grittier , urgent Traffic . Very little about this druggy drama works\n",
            "with no dialogue , giving the film a very high nod-off factor . Kim Basinger d\n"
          ]
        }
      ]
    },
    {
      "cell_type": "markdown",
      "metadata": {
        "id": "xnDulXy9yGL-"
      },
      "source": [
        "Dispersion Plot\n",
        "- Since we sorted the data by date, this can give us an idea of if certain words are used more now than they were in 2000"
      ]
    },
    {
      "cell_type": "code",
      "metadata": {
        "colab": {
          "base_uri": "https://localhost:8080/",
          "height": 851
        },
        "id": "pIft03VJmyBD",
        "outputId": "4b1012e5-06ca-4e00-9aa7-24e420b9d882"
      },
      "source": [
        "revnltk.dispersion_plot(['good', 'film', 'movie', 'characters', 'comedy', 'actors', 'fun'])\n",
        "freshnltk.dispersion_plot(['good', 'film', 'movie', 'characters', 'comedy', 'actors', 'fun'])\n",
        "rotnltk.dispersion_plot(['good', 'film', 'movie', 'characters', 'comedy','actors', 'fun'])"
      ],
      "execution_count": null,
      "outputs": [
        {
          "output_type": "display_data",
          "data": {
            "image/png": "[encoded data removed]",
            "text/plain": [
              "<Figure size 432x288 with 1 Axes>"
            ]
          },
          "metadata": {
            "needs_background": "light"
          }
        },
        {
          "output_type": "display_data",
          "data": {
            "image/png": "[encoded data removed]",
            "text/plain": [
              "<Figure size 432x288 with 1 Axes>"
            ]
          },
          "metadata": {
            "needs_background": "light"
          }
        },
        {
          "output_type": "display_data",
          "data": {
            "image/png": "[encoded data removed]",
            "text/plain": [
              "<Figure size 432x288 with 1 Axes>"
            ]
          },
          "metadata": {
            "needs_background": "light"
          }
        }
      ]
    },
    {
      "cell_type": "code",
      "metadata": {
        "colab": {
          "base_uri": "https://localhost:8080/"
        },
        "id": "5IDxL67EnyvT",
        "outputId": "4ec4c80a-3d07-45da-ce7c-6bcb6b5a49fa"
      },
      "source": [
        "revnltk.collocations()"
      ],
      "execution_count": null,
      "outputs": [
        {
          "output_type": "stream",
          "name": "stdout",
          "text": [
            "See Spot; Spot Run; Blow Dry; World War; Full Monty; Company Man; Exit\n",
            "Wounds; two hours; David Arquette; Private Ryan; Saving Private; High\n",
            "Fidelity; first time; del año; could n't; Stephen Frears; box office;\n",
            "directorial debut; Peter Askin; credits roll\n"
          ]
        }
      ]
    },
    {
      "cell_type": "code",
      "metadata": {
        "colab": {
          "base_uri": "https://localhost:8080/"
        },
        "id": "sZC_AID2ySdu",
        "outputId": "85631740-8fb7-40a3-c378-c794ce7c5399"
      },
      "source": [
        "freshnltk.collocations()"
      ],
      "execution_count": null,
      "outputs": [
        {
          "output_type": "stream",
          "name": "stdout",
          "text": [
            "Spy Kids; special effects; feel like; Spot Run; ever made; See Spot;\n",
            "romantic comedy; World War; Along Came; Inspector Gadget; directorial\n",
            "debut; two hours; emotional immediacy; first time; Crouching Tiger;\n",
            "Hidden Dragon; Private Ryan; credits roll; worth seeing; Amores Perros\n"
          ]
        }
      ]
    },
    {
      "cell_type": "code",
      "metadata": {
        "colab": {
          "base_uri": "https://localhost:8080/"
        },
        "id": "c1rOgwcuyhm9",
        "outputId": "99f7e22d-bfed-4109-d9c9-cb363f686e78"
      },
      "source": [
        "rotnltk.collocations()"
      ],
      "execution_count": null,
      "outputs": [
        {
          "output_type": "stream",
          "name": "stdout",
          "text": [
            "Spot Run; See Spot; Blow Dry; Someone Like; Along Came; Joe Dirt; two\n",
            "hours; Company Man; Full Monty; Farrelly Brothers; Kingdom Come; World\n",
            "War; Farrelly brothers; Julia Roberts; Ashley Judd; Exit Wounds;\n",
            "naughty roots; pretty much; worked better; gross-out humor\n"
          ]
        }
      ]
    },
    {
      "cell_type": "markdown",
      "metadata": {
        "id": "8dhoHyL38j7r"
      },
      "source": [
        "##TF-IDF"
      ]
    },
    {
      "cell_type": "code",
      "metadata": {
        "colab": {
          "base_uri": "https://localhost:8080/"
        },
        "id": "UiO5-YF68nGz",
        "outputId": "56aa2eb5-6a30-4129-a6a1-dd0b685a394e"
      },
      "source": [
        " !pip install nltk scipy numpy matplotlib scikit-learn gensim "
      ],
      "execution_count": null,
      "outputs": [
        {
          "name": "stdout",
          "output_type": "stream",
          "text": [
            "Requirement already satisfied: nltk in /usr/local/lib/python3.7/dist-packages (3.2.5)\n",
            "Requirement already satisfied: scipy in /usr/local/lib/python3.7/dist-packages (1.4.1)\n",
            "Requirement already satisfied: numpy in /usr/local/lib/python3.7/dist-packages (1.19.5)\n",
            "Requirement already satisfied: matplotlib in /usr/local/lib/python3.7/dist-packages (3.2.2)\n",
            "Requirement already satisfied: scikit-learn in /usr/local/lib/python3.7/dist-packages (1.0.1)\n",
            "Requirement already satisfied: gensim in /usr/local/lib/python3.7/dist-packages (3.6.0)\n",
            "Requirement already satisfied: six in /usr/local/lib/python3.7/dist-packages (from nltk) (1.15.0)\n",
            "Requirement already satisfied: python-dateutil>=2.1 in /usr/local/lib/python3.7/dist-packages (from matplotlib) (2.8.2)\n",
            "Requirement already satisfied: pyparsing!=2.0.4,!=2.1.2,!=2.1.6,>=2.0.1 in /usr/local/lib/python3.7/dist-packages (from matplotlib) (3.0.6)\n",
            "Requirement already satisfied: cycler>=0.10 in /usr/local/lib/python3.7/dist-packages (from matplotlib) (0.11.0)\n",
            "Requirement already satisfied: kiwisolver>=1.0.1 in /usr/local/lib/python3.7/dist-packages (from matplotlib) (1.3.2)\n",
            "Requirement already satisfied: joblib>=0.11 in /usr/local/lib/python3.7/dist-packages (from scikit-learn) (1.1.0)\n",
            "Requirement already satisfied: threadpoolctl>=2.0.0 in /usr/local/lib/python3.7/dist-packages (from scikit-learn) (3.0.0)\n",
            "Requirement already satisfied: smart-open>=1.2.1 in /usr/local/lib/python3.7/dist-packages (from gensim) (5.2.1)\n"
          ]
        }
      ]
    },
    {
      "cell_type": "code",
      "metadata": {
        "id": "7DZ2dLjFj_q9"
      },
      "source": [
        "review_df_clean_sample = review_df_clean.sample(25000)\n",
        "# the colab session crashes if we try to use the full dataset so we sample 25000 reviews before recreating the corpora.\n",
        "\n",
        "review_corpus_sample = review_df_clean_sample['tok']\n",
        "\n",
        "rotten_df_sample = review_df_clean_sample[review_df_clean_sample['review_type'] == 'Rotten']\n",
        "rotten_corpus_sample = rotten_df_sample['tok']\n",
        "rotten_list_sample = [item for sublist in rotten_corpus_sample for item in sublist]\n",
        "\n",
        "fresh_df_sample = review_df_clean_sample[review_df_clean_sample['review_type'] == 'Fresh']\n",
        "fresh_corpus_sample = fresh_df_sample['tok']\n",
        "fresh_list_sample = [item for sublist in fresh_corpus_sample for item in sublist]\n",
        "\n"
      ],
      "execution_count": null,
      "outputs": []
    },
    {
      "cell_type": "code",
      "metadata": {
        "id": "paN3F1FQd4za"
      },
      "source": [
        "from sklearn.feature_extraction.text import CountVectorizer "
      ],
      "execution_count": null,
      "outputs": []
    },
    {
      "cell_type": "code",
      "metadata": {
        "id": "M2Hg4dsbd77Z"
      },
      "source": [
        "vectorizer = CountVectorizer(lowercase=True, tokenizer=nltk.word_tokenize, max_features=1000)"
      ],
      "execution_count": null,
      "outputs": []
    },
    {
      "cell_type": "code",
      "metadata": {
        "colab": {
          "base_uri": "https://localhost:8080/"
        },
        "id": "Y6V1IYmZeAH5",
        "outputId": "6332e5fa-d96a-4e99-fdcd-3d8f77fd3621"
      },
      "source": [
        "# count vectorizer expects each document to be one string, not a list of tokens\n",
        "corpus_concat_fresh = [' '.join(doc) for doc in fresh_corpus_sample]\n",
        "\n",
        "X = vectorizer.fit_transform(corpus_concat_fresh) \n",
        "\n",
        "print(X.shape)"
      ],
      "execution_count": null,
      "outputs": [
        {
          "name": "stdout",
          "output_type": "stream",
          "text": [
            "(15878, 1000)\n"
          ]
        }
      ]
    },
    {
      "cell_type": "code",
      "metadata": {
        "colab": {
          "base_uri": "https://localhost:8080/"
        },
        "id": "gZp2EmbJeJE2",
        "outputId": "272c73f0-c7ae-414c-e4c6-ecef0e5404bd"
      },
      "source": [
        "from nltk.tokenize import word_tokenize\n",
        "from sklearn.feature_extraction.text import CountVectorizer \n",
        "import numpy as np \n",
        "import pandas as pd \n",
        "\n",
        "def tfidf_vectorizer(corpus):\n",
        "  cvect = CountVectorizer() \n",
        "  count_matrix = cvect.fit_transform(corpus) \n",
        "  features = cvect.get_feature_names_out()\n",
        "\n",
        "  count_matrix = pd.DataFrame(count_matrix.todense()) \n",
        "\n",
        "  df_vect = count_matrix.astype(bool).sum(axis=0) \n",
        "  df_vect = np.log(len(corpus) / df_vect) \n",
        "\n",
        "  return features, np.array(count_matrix * df_vect) \n",
        "\n",
        "\n",
        "features, X = tfidf_vectorizer(corpus_concat_fresh)\n",
        "print(X.shape)"
      ],
      "execution_count": null,
      "outputs": [
        {
          "name": "stdout",
          "output_type": "stream",
          "text": [
            "(15878, 24787)\n"
          ]
        }
      ]
    },
    {
      "cell_type": "code",
      "metadata": {
        "colab": {
          "base_uri": "https://localhost:8080/"
        },
        "id": "XLwhyHpueN3s",
        "outputId": "11025388-4eed-470e-ee6c-28e5331ac3d6"
      },
      "source": [
        "tokens = vectorizer.get_feature_names_out() \n",
        "\n",
        "# build our idx_to_token dictionary\n",
        "idx_to_tokens = {}\n",
        "tokens_to_idx = {}\n",
        "\n",
        "for i in range(len(features)):\n",
        "  token = features[i] \n",
        "  tokens_to_idx[token] = i \n",
        "  idx_to_tokens[i] = token \n"
      ],
      "execution_count": null,
      "outputs": [
        {
          "name": "stdout",
          "output_type": "stream",
          "text": [
            "22073\n",
            "[0.         0.         0.4433314  ... 0.4433314  1.32999421 0.        ]\n"
          ]
        }
      ]
    },
    {
      "cell_type": "code",
      "metadata": {
        "colab": {
          "base_uri": "https://localhost:8080/"
        },
        "id": "19qgWDLIeSVf",
        "outputId": "2e8669bc-47b0-4fbd-b264-86b9edf0291e"
      },
      "source": [
        "top_fresh_tokens = np.argsort(X[0])[::-1]\n",
        "top_fresh_tokens = top_fresh_tokens[0:10]\n",
        "print(top_fresh_tokens)\n",
        "for t in top_fresh_tokens:\n",
        "  print(idx_to_tokens[t])"
      ],
      "execution_count": null,
      "outputs": [
        {
          "name": "stdout",
          "output_type": "stream",
          "text": [
            "[  236 10478  5708  2822  8176 21555 17294 14102 14605  9905]\n",
            "99\n",
            "holding\n",
            "delicious\n",
            "breath\n",
            "felt\n",
            "suspense\n",
            "pure\n",
            "minutes\n",
            "my\n",
            "had\n"
          ]
        }
      ]
    },
    {
      "cell_type": "code",
      "metadata": {
        "colab": {
          "base_uri": "https://localhost:8080/"
        },
        "id": "4l8jvXkfpu9j",
        "outputId": "82046c04-0cfe-4c40-c63d-727a24c56dc9"
      },
      "source": [
        "corpus_concat_rotten = [' '.join(doc) for doc in rotten_corpus_sample]\n",
        "\n",
        "X = vectorizer.fit_transform(corpus_concat_rotten) \n",
        "\n",
        "print(X.shape)"
      ],
      "execution_count": null,
      "outputs": [
        {
          "name": "stdout",
          "output_type": "stream",
          "text": [
            "(9122, 1000)\n"
          ]
        }
      ]
    },
    {
      "cell_type": "code",
      "metadata": {
        "colab": {
          "base_uri": "https://localhost:8080/"
        },
        "id": "sRLKatpvqGNv",
        "outputId": "732275b7-7e8a-4cce-cba6-47f64231f7a1"
      },
      "source": [
        "features, X = tfidf_vectorizer(corpus_concat_rotten)\n",
        "print(X.shape)\n",
        "\n"
      ],
      "execution_count": null,
      "outputs": [
        {
          "name": "stdout",
          "output_type": "stream",
          "text": [
            "(9122, 19246)\n"
          ]
        }
      ]
    },
    {
      "cell_type": "code",
      "metadata": {
        "colab": {
          "base_uri": "https://localhost:8080/"
        },
        "id": "KL9tWX7ls8_J",
        "outputId": "d111de2b-6b00-454d-fad8-bf3f4fcf5c61"
      },
      "source": [
        "tokens = vectorizer.get_feature_names_out() \n",
        "\n",
        "# build our idx_to_token dictionary\n",
        "idx_to_tokens = {}\n",
        "tokens_to_idx = {}\n",
        "\n",
        "for i in range(len(features)):\n",
        "  token = features[i] \n",
        "  tokens_to_idx[token] = i \n",
        "  idx_to_tokens[i] = token \n",
        "\n",
        "the_id = tokens_to_idx[\"the\"]\n",
        "print(the_id)\n",
        "print(X[:,the_id])"
      ],
      "execution_count": null,
      "outputs": [
        {
          "name": "stdout",
          "output_type": "stream",
          "text": [
            "17187\n",
            "[0.91985046 0.91985046 0.45992523 ... 0.         0.         0.        ]\n"
          ]
        }
      ]
    },
    {
      "cell_type": "code",
      "metadata": {
        "colab": {
          "base_uri": "https://localhost:8080/"
        },
        "id": "lEYDqQl2tBW5",
        "outputId": "fde47d3c-5a25-43c9-a812-d9b032eb440a"
      },
      "source": [
        "top_rotten_tokens = np.argsort(X[0])[::-1]\n",
        "top_rotten_tokens = top_rotten_tokens[0:10]\n",
        "print(top_rotten_tokens)\n",
        "for t in top_rotten_tokens:\n",
        "  print(idx_to_tokens[t])"
      ],
      "execution_count": null,
      "outputs": [
        {
          "name": "stdout",
          "output_type": "stream",
          "text": [
            "[ 3750  1186  4421 11435  2817 17454 14695 17655 18874  9396]\n",
            "courant\n",
            "au\n",
            "deranged\n",
            "nihilistic\n",
            "cheek\n",
            "tongue\n",
            "savage\n",
            "trend\n",
            "wild\n",
            "killer\n"
          ]
        }
      ]
    },
    {
      "cell_type": "markdown",
      "metadata": {
        "id": "p6kBkQ9T8nma"
      },
      "source": [
        "##LDA"
      ]
    },
    {
      "cell_type": "code",
      "metadata": {
        "colab": {
          "base_uri": "https://localhost:8080/"
        },
        "id": "-W0MXw-MXOGU",
        "outputId": "ed52c470-f8a9-4799-88d4-ce8ba2532d94"
      },
      "source": [
        "rotten_corpus = rotten_df['review_content']"
      ],
      "execution_count": null,
      "outputs": [
        {
          "data": {
            "text/plain": [
              "18385     Why did and does Hollywood continue to put non...\n",
              "23652     What little plot there is to this movie is bas...\n",
              "622026    Octopussy is a very minor entry in the Bond fr...\n",
              "651732    Although there are plenty of elements to choos...\n",
              "257544    It's probably safe to say that the British dir...\n",
              "                                ...                        \n",
              "569698    At no point do Jerry and Samantha seem romanti...\n",
              "417839    The bits are more sitcom quality than the Wood...\n",
              "775836      No bows -- no wows See Spot Run is a must miss.\n",
              "569700    It's tough to believe anyone could read this s...\n",
              "775837    Too dumb for anyone over 8 and too vulgar for ...\n",
              "Name: review_content, Length: 100, dtype: object"
            ]
          },
          "execution_count": 28,
          "metadata": {},
          "output_type": "execute_result"
        }
      ]
    },
    {
      "cell_type": "code",
      "metadata": {
        "colab": {
          "base_uri": "https://localhost:8080/"
        },
        "id": "L7c9NjNVXS1R",
        "outputId": "b6ec93fd-ec6d-4a72-af72-11ac7c235b1a"
      },
      "source": [
        "fresh_corpus = fresh_df['review_content']"
      ],
      "execution_count": null,
      "outputs": [
        {
          "data": {
            "text/plain": [
              "898262    Sunrise is often rightfully noted for its tech...\n",
              "898263    Sunrise is often rightfully noted for its tech...\n",
              "644470    When one speaks of The Passion of Joan of Arc,...\n",
              "545                             If you haven't seen it, do.\n",
              "26977     The Western that, more than any other film, se...\n",
              "                                ...                        \n",
              "141491    It chronicles one of the most dramatic of all ...\n",
              "606975    As an actress, Bullock has it all -- heart and...\n",
              "34170     There are moments in A Little Princess when yo...\n",
              "139917    Antonia's Line lopes along, sometimes with slo...\n",
              "181974    The beauty of The Birdcage is that its jokes a...\n",
              "Name: review_content, Length: 100, dtype: object"
            ]
          },
          "execution_count": 29,
          "metadata": {},
          "output_type": "execute_result"
        }
      ]
    },
    {
      "cell_type": "code",
      "metadata": {
        "colab": {
          "base_uri": "https://localhost:8080/"
        },
        "id": "vpB0HVWe8pi6",
        "outputId": "d5909881-4843-42c8-f48e-765338ff5c46"
      },
      "source": [
        "import nltk \n",
        "\n",
        "from sklearn.decomposition import LatentDirichletAllocation\n",
        "from sklearn.feature_extraction.text import CountVectorizer \n",
        "\n",
        "import nltk \n",
        "nltk.download(\"punkt\")\n",
        "\n",
        "from nltk.tokenize import word_tokenize\n",
        "\n",
        "print(len(fresh_corpus))\n",
        "print(len(rotten_corpus))"
      ],
      "execution_count": null,
      "outputs": [
        {
          "name": "stdout",
          "output_type": "stream",
          "text": [
            "[nltk_data] Downloading package punkt to /root/nltk_data...\n",
            "[nltk_data]   Package punkt is already up-to-date!\n",
            "361955\n",
            "205488\n"
          ]
        }
      ]
    },
    {
      "cell_type": "code",
      "metadata": {
        "colab": {
          "base_uri": "https://localhost:8080/"
        },
        "id": "wpgRz2-wtDmk",
        "outputId": "22ae0df3-ebb8-416b-8a46-7df0112243f4"
      },
      "source": [
        "#Loading and fitting the \"fresh\" model\n",
        "\n",
        "cvect = CountVectorizer(stop_words=\"english\", max_features=500)\n",
        "X = cvect.fit_transform(fresh_corpus)\n",
        "\n",
        "vocab = cvect.get_feature_names() \n",
        "print(vocab[0:10])\n",
        "print(vocab[20:30])"
      ],
      "execution_count": null,
      "outputs": [
        {
          "name": "stdout",
          "output_type": "stream",
          "text": [
            "['act', 'acted', 'acting', 'action', 'actor', 'actors', 'actually', 'adaptation', 'adventure', 'age']\n",
            "['audience', 'audiences', 'away', 'bad', 'based', 'beautiful', 'beautifully', 'beauty', 'best', 'better']\n"
          ]
        },
        {
          "name": "stderr",
          "output_type": "stream",
          "text": [
            "/usr/local/lib/python3.7/dist-packages/sklearn/utils/deprecation.py:87: FutureWarning: Function get_feature_names is deprecated; get_feature_names is deprecated in 1.0 and will be removed in 1.2. Please use get_feature_names_out instead.\n",
            "  warnings.warn(msg, category=FutureWarning)\n"
          ]
        }
      ]
    },
    {
      "cell_type": "code",
      "metadata": {
        "colab": {
          "base_uri": "https://localhost:8080/"
        },
        "id": "ERBAIH79tPda",
        "outputId": "2a06740d-b085-4ff3-ebdc-c05cf76fcf39"
      },
      "source": [
        "#Fitting the topic model for \"Fresh\"\n",
        "\n",
        "NUM_TOPICS = 5\n",
        "\n",
        "# initialize the topic model\n",
        "topic_model = LatentDirichletAllocation(n_components=NUM_TOPICS, #n_compenents specifies the number of topics\n",
        "                                        n_jobs=2,\n",
        "                                        learning_method='online',\n",
        "                                        evaluate_every=0)  \n",
        "topic_model.fit(X) "
      ],
      "execution_count": null,
      "outputs": [
        {
          "data": {
            "text/plain": [
              "LatentDirichletAllocation(evaluate_every=0, learning_method='online',\n",
              "                          n_components=5, n_jobs=2)"
            ]
          },
          "execution_count": 32,
          "metadata": {},
          "output_type": "execute_result"
        }
      ]
    },
    {
      "cell_type": "code",
      "metadata": {
        "colab": {
          "base_uri": "https://localhost:8080/"
        },
        "id": "AgikfSjutVuv",
        "outputId": "65e8b735-0747-4dd4-9f7e-b09d4f3f7350"
      },
      "source": [
        "TOP_N = 5 \n",
        "\n",
        "topic_norm = topic_model.components_ / topic_model.components_.sum(axis=1)[:, np.newaxis]\n",
        "\n",
        "for idx, topic in enumerate(topic_norm):\n",
        "    print(\"Topic id: {}\".format(idx))\n",
        "    #print(topic)\n",
        "    top_tokens = np.argsort(topic)[::-1] \n",
        "    for i in range(TOP_N):\n",
        "        print('{}: {}'.format(vocab[top_tokens[i]], topic[top_tokens[i]]))\n",
        "    print()\n",
        "\n",
        "#for each topic in the \"Fresh\" reviews, we get the top 5 words\n",
        "\n",
        "#NEED TO FIGURE OUT HOW TO DROP 'movie' and 'film' from these models!"
      ],
      "execution_count": null,
      "outputs": [
        {
          "name": "stdout",
          "output_type": "stream",
          "text": [
            "Topic id: 0\n",
            "film: 0.046828650967773014\n",
            "best: 0.04117315423067275\n",
            "review: 0.03884510012916587\n",
            "great: 0.032459850436507\n",
            "make: 0.03022555239632764\n",
            "\n",
            "Topic id: 1\n",
            "story: 0.0620663180143859\n",
            "good: 0.04639331808127038\n",
            "characters: 0.028266949551180122\n",
            "performance: 0.027038880526652247\n",
            "drama: 0.026299239413667356\n",
            "\n",
            "Topic id: 2\n",
            "film: 0.07513290282252776\n",
            "funny: 0.03411358896304842\n",
            "entertaining: 0.030582995004973877\n",
            "real: 0.023567697496127152\n",
            "documentary: 0.021460291992912855\n",
            "\n",
            "Topic id: 3\n",
            "like: 0.07221255512930022\n",
            "movie: 0.04417897107655456\n",
            "film: 0.04229424509332197\n",
            "makes: 0.03427343983357372\n",
            "love: 0.031300208137938774\n",
            "\n",
            "Topic id: 4\n",
            "time: 0.03867750167204925\n",
            "film: 0.0378115978176892\n",
            "spanish: 0.035585726621418345\n",
            "fun: 0.034482815095377845\n",
            "life: 0.032068133613185855\n",
            "\n"
          ]
        }
      ]
    },
    {
      "cell_type": "code",
      "metadata": {
        "colab": {
          "base_uri": "https://localhost:8080/"
        },
        "id": "a5bVO7LqX3D0",
        "outputId": "0bc1ce08-7e8b-44b1-94c9-10cd076f7e15"
      },
      "source": [
        "#Loading and fitting the \"rotten\" model\n",
        "\n",
        "cvect = CountVectorizer(stop_words=\"english\", max_features=500)\n",
        "X2 = cvect.fit_transform(rotten_corpus)\n",
        "\n",
        "vocab2 = cvect.get_feature_names() \n",
        "print(vocab2[0:10])\n",
        "print(vocab2[20:30])"
      ],
      "execution_count": null,
      "outputs": [
        {
          "name": "stdout",
          "output_type": "stream",
          "text": [
            "['act', 'acting', 'action', 'actor', 'actors', 'actually', 'adaptation', 'adventure', 'age', 'american']\n",
            "['audience', 'audiences', 'away', 'awful', 'bad', 'barely', 'based', 'believe', 'best', 'better']\n"
          ]
        },
        {
          "name": "stderr",
          "output_type": "stream",
          "text": [
            "/usr/local/lib/python3.7/dist-packages/sklearn/utils/deprecation.py:87: FutureWarning: Function get_feature_names is deprecated; get_feature_names is deprecated in 1.0 and will be removed in 1.2. Please use get_feature_names_out instead.\n",
            "  warnings.warn(msg, category=FutureWarning)\n"
          ]
        }
      ]
    },
    {
      "cell_type": "code",
      "metadata": {
        "colab": {
          "base_uri": "https://localhost:8080/"
        },
        "id": "XBR13X9OX-Ja",
        "outputId": "ee42d471-60bd-4fa6-da14-0b4fe6d386bd"
      },
      "source": [
        "#Fitting the topic model for \"Rotten\"\n",
        "\n",
        "NUM_TOPICS = 5\n",
        "\n",
        "\n",
        "# initialize the topic model\n",
        "topic_model = LatentDirichletAllocation(n_components=NUM_TOPICS, #n_compenents specifies the number of topics\n",
        "                                        n_jobs=2,\n",
        "                                        learning_method='online',\n",
        "                                        evaluate_every=0)  \n",
        "topic_model.fit(X2) "
      ],
      "execution_count": null,
      "outputs": [
        {
          "data": {
            "text/plain": [
              "LatentDirichletAllocation(evaluate_every=0, learning_method='online',\n",
              "                          n_components=5, n_jobs=2)"
            ]
          },
          "execution_count": 35,
          "metadata": {},
          "output_type": "execute_result"
        }
      ]
    },
    {
      "cell_type": "code",
      "metadata": {
        "colab": {
          "base_uri": "https://localhost:8080/"
        },
        "id": "nv1zgSjLYEi8",
        "outputId": "f24a6ed2-dbe7-41ac-cc3c-eba0160a8674"
      },
      "source": [
        "import numpy as np\n",
        "\n",
        "TOP_N = 5\n",
        "\n",
        "topic_norm = topic_model.components_ / topic_model.components_.sum(axis=1)[:, np.newaxis]\n",
        "\n",
        "for idx, topic in enumerate(topic_norm):\n",
        "    print(\"Topic id: {}\".format(idx))\n",
        "    #print(topic)\n",
        "    top_tokens = np.argsort(topic)[::-1] \n",
        "    for i in range(TOP_N):\n",
        "        print('{}: {}'.format(vocab[top_tokens[i]], topic[top_tokens[i]]))\n",
        "    print()\n",
        "\n",
        "#for each topic in the \"Rotten\" reviews, we get the top 5 words"
      ],
      "execution_count": null,
      "outputs": [
        {
          "name": "stdout",
          "output_type": "stream",
          "text": [
            "Topic id: 0\n",
            "narrative: 0.07110473795356534\n",
            "film: 0.04690076812457674\n",
            "like: 0.04115873482559599\n",
            "remarkable: 0.030511485719776084\n",
            "early: 0.0261362339231967\n",
            "\n",
            "Topic id: 1\n",
            "comedy: 0.047817808019086805\n",
            "better: 0.03541823965455867\n",
            "acting: 0.02832468920217958\n",
            "features: 0.02409847861873203\n",
            "future: 0.022894492510285133\n",
            "\n",
            "Topic id: 2\n",
            "magic: 0.041090663213011934\n",
            "narrative: 0.04044143354084498\n",
            "rock: 0.03437775394992866\n",
            "documentary: 0.03396282293752872\n",
            "impressive: 0.03316418545404401\n",
            "\n",
            "Topic id: 3\n",
            "narrative: 0.04493355632690455\n",
            "film: 0.04256842755864765\n",
            "easily: 0.03809709421555138\n",
            "study: 0.030585625253150384\n",
            "based: 0.028261957818906374\n",
            "\n",
            "Topic id: 4\n",
            "level: 0.09234412888787911\n",
            "film: 0.0749630117598468\n",
            "fi: 0.03447622868998382\n",
            "left: 0.02065716173837001\n",
            "feels: 0.0204001217090655\n",
            "\n"
          ]
        }
      ]
    },
    {
      "cell_type": "markdown",
      "metadata": {
        "id": "iCjTNEhZ8qAK"
      },
      "source": [
        "##Sentiment Analysis"
      ]
    },
    {
      "cell_type": "code",
      "metadata": {
        "id": "_45rvDUO9D4M"
      },
      "source": [
        "from sklearn.model_selection import train_test_split\n",
        "import numpy as np\n",
        "review_text = review_df_clean['review_content']\n",
        "data_labels = review_df_clean['review_type']\n",
        "\n",
        "# split into train/test data\n",
        "training_text, test_text, training_labels, test_labels = train_test_split(review_text, data_labels, \n",
        "                                                                        train_size = 0.7)"
      ],
      "execution_count": null,
      "outputs": []
    },
    {
      "cell_type": "code",
      "metadata": {
        "colab": {
          "base_uri": "https://localhost:8080/"
        },
        "id": "RYq-rYLK7uq_",
        "outputId": "5faf12c9-f67c-46d4-a431-e52073dd6010"
      },
      "source": [
        "# learning-based model\n",
        "from sklearn.feature_extraction.text import CountVectorizer \n",
        "from sklearn.naive_bayes import MultinomialNB\n",
        "from sklearn.preprocessing import LabelEncoder\n",
        "\n",
        "# the input for our classifier is a term-frequency matrix\n",
        "vect = CountVectorizer()\n",
        "X = vect.fit_transform(training_text) \n",
        "\n",
        "# encode our labels as 0 and 1 (0 = Fresh, 1 = Rotten)\n",
        "label_enc = LabelEncoder()\n",
        "Y = label_enc.fit_transform(training_labels) \n",
        "print(label_enc.classes_) #print our 2 classes, Fresh and Rotten\n",
        "\n",
        "nb = MultinomialNB() # initialize the model\n",
        "\n",
        "nb.fit(X, Y) # training the model (this function does all of the heavy lifting) "
      ],
      "execution_count": null,
      "outputs": [
        {
          "name": "stdout",
          "output_type": "stream",
          "text": [
            "['Fresh' 'Rotten']\n"
          ]
        },
        {
          "data": {
            "text/plain": [
              "MultinomialNB()"
            ]
          },
          "execution_count": 30,
          "metadata": {},
          "output_type": "execute_result"
        }
      ]
    },
    {
      "cell_type": "code",
      "metadata": {
        "colab": {
          "base_uri": "https://localhost:8080/"
        },
        "id": "V09UC6Tr7uti",
        "outputId": "d0bd6e63-5d35-411c-8c7c-52de02a4371a"
      },
      "source": [
        "# test set evaluation for Naive Bayes \n",
        "X_test = vect.transform(test_text)\n",
        "Y_test = label_enc.transform(test_labels)\n",
        "\n",
        "preds = nb.predict(X_test) # our predictions for the test data\n",
        "\n",
        "print('test accuracy: {}'.format(np.sum(preds == Y_test) / len(Y_test))) # accuracy is how many we get right/total\n"
      ],
      "execution_count": null,
      "outputs": [
        {
          "name": "stdout",
          "output_type": "stream",
          "text": [
            "test accuracy: 0.8035503238311351\n",
            "Predicted label: 0, true label: 0, review: Nearly everything about Rabbit-Proof Fence is astonishing.\n",
            "Predicted label: 0, true label: 0, review: Extraordinarily rich visually, with a density of detail that would have impressed Breughel or Veronese.\n",
            "Predicted label: 0, true label: 0, review: [An] authoritative British documentary on [King's] long, impressive career.\n",
            "Predicted label: 0, true label: 0, review: Directors Kevin Kölsch and Dennis Widmyer capture the dark, grieving spirit of what many regard as King's scariest work.\n",
            "Predicted label: 1, true label: 0, review: 47 Meters Down: Uncaged may be a bit slight in the script department and features some cartoonish aquatic beasts, but it delivers non-stop, anxiety-inducing terror once it reaches its halfway point.\n",
            "Predicted label: 1, true label: 0, review: If there is a visual equivalent to that title song - the Billie Holiday version is favored here - Kiarostami seems to have found it.\n",
            "Predicted label: 1, true label: 1, review: The truly scary thing about Silent Hill is that it's 127 minutes long, which means it's a good 20 to 30 minutes longer than most of the other similarly awful films inspired by video games.\n",
            "Predicted label: 1, true label: 0, review: It's lopsided and spotty, but it's alive in a way that suddenly makes you remember to what degree most Hollywood movies aren't.\n",
            "Predicted label: 1, true label: 1, review: May reawaken discussion of the Kennedy assassination but this fictional film looks made for cable rather than for the big screen.\n",
            "Predicted label: 1, true label: 1, review: Jesus is a stoner Messiah, with his woozy delivery and Kris Kristofferson beard.\n",
            "Predicted label: 1, true label: 1, review: The cast feels checked out: Winslet and Norton, two attractive and charismatic performers, have never looked more painted and tired.\n",
            "Predicted label: 0, true label: 0, review: Never Rarely Sometimes Always isn't agitprop for an era of increasingly restricted abortion access, though it'd be entirely justified and effective in being so.\n",
            "Predicted label: 0, true label: 0, review: Rocketman captures the fantasy and majesty of John's enduring legacy in a magical way, cranking up the tunes in a dream-hazed portrait that lives and breathes his identity.\n"
          ]
        }
      ]
    },
    {
      "cell_type": "markdown",
      "metadata": {
        "id": "2yyWGjEO8GNA"
      },
      "source": [
        "Rule Based version, using Vader lexicon"
      ]
    },
    {
      "cell_type": "code",
      "metadata": {
        "colab": {
          "base_uri": "https://localhost:8080/"
        },
        "id": "_Dr3Qb6y8BiG",
        "outputId": "8185ea8f-1249-4043-e333-c2826f2577e9"
      },
      "source": [
        "## rule based version:\n",
        "\n",
        "from nltk.sentiment.vader import SentimentIntensityAnalyzer \n",
        "nltk.download(\"vader_lexicon\")\n",
        "\n",
        "sid = SentimentIntensityAnalyzer() # initialize our rules-based model\n"
      ],
      "execution_count": null,
      "outputs": [
        {
          "name": "stderr",
          "output_type": "stream",
          "text": [
            "/usr/local/lib/python3.7/dist-packages/nltk/twitter/__init__.py:20: UserWarning: The twython library has not been installed. Some functionality from the twitter package will not be available.\n",
            "  warnings.warn(\"The twython library has not been installed. \"\n"
          ]
        },
        {
          "name": "stdout",
          "output_type": "stream",
          "text": [
            "[nltk_data] Downloading package vader_lexicon to /root/nltk_data...\n"
          ]
        }
      ]
    },
    {
      "cell_type": "code",
      "metadata": {
        "colab": {
          "base_uri": "https://localhost:8080/"
        },
        "id": "jws5vEkL8BlN",
        "outputId": "9d26fbeb-0ef5-4637-bcc9-19b55ebd9823"
      },
      "source": [
        "# test set evaluation for VADER\n",
        "test_preds = []\n",
        "# even though we don't have any training portion of this model, we'll use the same data as we used for the learning model\n",
        "# we'll do this 1) for consistency and 2) since the size of the data (even 30%) is plenty to remove any serious sampling bias anyway\n",
        "for t in test_text:\n",
        "  ss = sid.polarity_scores(t)\n",
        "  score = ss['compound']\n",
        "  if score > 0:\n",
        "    test_preds.append(\"Fresh\")  # positive\n",
        "  else:\n",
        "    test_preds.append(\"Rotten\")  # negative \n",
        "\n",
        "print('test accuracy: {}'.format(np.sum(test_preds == test_labels) / len(test_labels)))"
      ],
      "execution_count": null,
      "outputs": [
        {
          "name": "stdout",
          "output_type": "stream",
          "text": [
            "test accuracy: 0.637531994786285\n",
            "-------\n"
          ]
        }
      ]
    },
    {
      "cell_type": "code",
      "metadata": {
        "id": "UiGiSIN44wpd"
      },
      "source": [
        ""
      ],
      "execution_count": null,
      "outputs": []
    }
  ]
}